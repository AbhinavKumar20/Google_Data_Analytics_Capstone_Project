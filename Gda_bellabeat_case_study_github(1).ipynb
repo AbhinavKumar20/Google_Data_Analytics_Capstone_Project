{
 "cells": [
  {
   "cell_type": "markdown",
   "id": "8c9b36a0",
   "metadata": {},
   "source": [
    "## Google Data Analytics Certificate's Capstone Project\n",
    "### Bellabeat data analysis case study\n",
    "\n"
   ]
  },
  {
   "cell_type": "markdown",
   "id": "0593d26c",
   "metadata": {},
   "source": [
    "**INTRODUCTION**\n",
    "\n",
    "Bellabeat, a pioneering company in the health-focused wearable technology space, aspires to elevate its position as a global leader in the smart device industry. Acknowledging the untapped potential of smart device fitness data to fuel growth, Bellabeat has initiated an in-depth analysis of consumer smart device usage patterns. The insights gleaned from this analysis will serve as a cornerstone for refining Bellabeat's marketing strategy and product development initiatives. Bellabeat's comprehensive product portfolio encompasses:\n",
    "\n",
    "* **Bellabeat app:** A comprehensive health data management platform that provides users with personalized insights into their activity, sleep, stress, menstrual cycle, and mindfulness habits.\n",
    "* **Leaf:** Bellabeat's signature wellness tracker, seamlessly wearable as a bracelet, necklace, or clip, designed to track activity, sleep, and stress levels.\n",
    "* **Time:** A sophisticated wellness watch that meticulously tracks user activity, sleep, and stress, offering valuable insights into daily wellness patterns.\n",
    "* **Spring:** This is a water bottle that tracks daily water to ensure that you are appropriately hydrated throughout the day. The Spring bottle connects to the Bellabeat app to track your hydration levels.\n",
    "* **Bellabeat membership:** An innovative water bottle that seamlessly integrates with the Bellabeat app, ensuring adequate hydration throughout the day by tracking daily water intake.\n",
    "\n",
    "### 1.Ask \n",
    "\n",
    "#### Key Stakeholders\n",
    "* Urška Sršen - Bellabeat's cofounder and Chief Creative Officer\n",
    "* Sando Mur - Mathematician and Bellabeat's co-founder.\n",
    "\n",
    "**Business Task** : \n",
    "* Conduct a comprehensive analysis of smart device usage data to uncover insights into consumer usage patterns of non-Bellabeat devices.\n",
    "\n",
    "* Leverage the insights gained to identify one Bellabeat product that stands out in terms of user inclusivity and health promotion.\n",
    "\n",
    "* Develop high-level recommendations that effectively integrate these trends into Bellabeat's marketing strategy.\n",
    "\n",
    "Guiding questions:\n",
    "* What are the key trends shaping the smart device usage landscape?\n",
    "\n",
    "* How can these trends be effectively applied to enhance the experience of Bellabeat customers?\n",
    "\n",
    "* In what ways can these trends strategically influence Bellabeat's marketing approach?"
   ]
  },
  {
   "cell_type": "code",
   "execution_count": 29,
   "id": "098ffecd",
   "metadata": {},
   "outputs": [
    {
     "name": "stderr",
     "output_type": "stream",
     "text": [
      "also installing the dependencies 'fastmap', 'bit', 'cachem', 'farver', 'fs', 'rappdirs', 'bit64', 'progress', 'processx', 'evaluate', 'xfun', 'lifecycle', 'memoise', 'blob', 'tidyselect', 'vctrs', 'glue', 'data.table', 'isoband', 'scales', 'withr', 'gargle', 'ids', 'rematch2', 'cpp11', 'curl', 'timechange', 'systemfonts', 'textshaping', 'vroom', 'tzdb', 'callr', 'knitr', 'stringi', 'broom', 'conflicted', 'cli', 'dbplyr', 'dplyr', 'dtplyr', 'forcats', 'ggplot2', 'googledrive', 'googlesheets4', 'haven', 'hms', 'httr', 'jsonlite', 'lubridate', 'magrittr', 'modelr', 'pillar', 'purrr', 'ragg', 'readr', 'readxl', 'reprex', 'rlang', 'rstudioapi', 'rvest', 'stringr', 'tibble', 'tidyr', 'xml2'\n",
      "\n"
     ]
    },
    {
     "name": "stdout",
     "output_type": "stream",
     "text": [
      "\n",
      "  There are binary versions available but the source versions are later:\n",
      "              binary source needs_compilation\n",
      "fastmap        1.1.0  1.1.1              TRUE\n",
      "bit            4.0.4  4.0.5              TRUE\n",
      "cachem         1.0.4  1.0.8              TRUE\n",
      "farver         2.1.0  2.1.1              TRUE\n",
      "fs             1.5.0  1.6.3              TRUE\n",
      "processx       3.5.2  3.8.2              TRUE\n",
      "evaluate        0.14   0.21             FALSE\n",
      "xfun            0.22   0.40              TRUE\n",
      "lifecycle      1.0.0  1.0.3             FALSE\n",
      "memoise        2.0.0  2.0.1             FALSE\n",
      "blob           1.2.1  1.2.4             FALSE\n",
      "tidyselect     1.1.1  1.2.0             FALSE\n",
      "vctrs          0.3.8  0.6.3              TRUE\n",
      "glue           1.4.2  1.6.2              TRUE\n",
      "data.table    1.14.0 1.14.8              TRUE\n",
      "isoband        0.2.4  0.2.7              TRUE\n",
      "scales         1.1.1  1.2.1             FALSE\n",
      "withr          2.4.2  2.5.0             FALSE\n",
      "gargle         1.1.0  1.5.2             FALSE\n",
      "cpp11          0.2.7  0.4.6             FALSE\n",
      "curl           4.3.1  5.0.2              TRUE\n",
      "timechange     0.0.2  0.2.0              TRUE\n",
      "systemfonts    1.0.2  1.0.4              TRUE\n",
      "textshaping    0.3.4  0.3.6              TRUE\n",
      "vroom          1.4.0  1.6.3              TRUE\n",
      "tzdb           0.1.1  0.4.0              TRUE\n",
      "callr          3.7.0  3.7.3             FALSE\n",
      "knitr           1.33   1.43             FALSE\n",
      "stringi        1.6.1 1.7.12              TRUE\n",
      "broom          0.7.6  1.0.5             FALSE\n",
      "conflicted     1.0.4  1.2.0             FALSE\n",
      "cli            2.5.0  3.6.1              TRUE\n",
      "dbplyr         2.1.1  2.3.3             FALSE\n",
      "dplyr          1.0.6  1.1.2              TRUE\n",
      "dtplyr         1.1.0  1.3.1             FALSE\n",
      "forcats        0.5.1  1.0.0             FALSE\n",
      "ggplot2        3.3.3  3.4.3             FALSE\n",
      "googledrive    1.0.1  2.1.1             FALSE\n",
      "googlesheets4  0.3.0  1.1.1             FALSE\n",
      "haven          2.4.1  2.5.3              TRUE\n",
      "hms            1.0.0  1.1.3             FALSE\n",
      "httr           1.4.2  1.4.7             FALSE\n",
      "jsonlite       1.7.2  1.8.7              TRUE\n",
      "lubridate     1.7.10  1.9.2              TRUE\n",
      "magrittr       2.0.1  2.0.3              TRUE\n",
      "modelr         0.1.8 0.1.11             FALSE\n",
      "pillar         1.6.0  1.9.0             FALSE\n",
      "purrr          0.3.4  1.0.2              TRUE\n",
      "ragg           1.1.2  1.2.5              TRUE\n",
      "readr          1.4.0  2.1.4              TRUE\n",
      "readxl         1.3.1  1.4.3              TRUE\n",
      "reprex         2.0.0  2.0.2             FALSE\n",
      "rlang         0.4.11  1.1.1              TRUE\n",
      "rstudioapi      0.13 0.15.0             FALSE\n",
      "rvest          1.0.0  1.0.3             FALSE\n",
      "stringr        1.4.0  1.5.0             FALSE\n",
      "tibble         3.1.1  3.2.1              TRUE\n",
      "tidyr          1.1.3  1.3.0              TRUE\n",
      "xml2           1.3.2  1.3.5              TRUE\n",
      "tidyverse      1.3.1  2.0.0             FALSE\n",
      "\n",
      "  Binaries will be installed\n",
      "package 'fastmap' successfully unpacked and MD5 sums checked\n",
      "package 'bit' successfully unpacked and MD5 sums checked\n",
      "package 'cachem' successfully unpacked and MD5 sums checked\n",
      "package 'farver' successfully unpacked and MD5 sums checked\n",
      "package 'fs' successfully unpacked and MD5 sums checked\n",
      "package 'rappdirs' successfully unpacked and MD5 sums checked\n",
      "package 'bit64' successfully unpacked and MD5 sums checked\n",
      "package 'progress' successfully unpacked and MD5 sums checked\n",
      "package 'processx' successfully unpacked and MD5 sums checked\n",
      "package 'xfun' successfully unpacked and MD5 sums checked\n",
      "package 'vctrs' successfully unpacked and MD5 sums checked\n",
      "package 'glue' successfully unpacked and MD5 sums checked\n",
      "package 'data.table' successfully unpacked and MD5 sums checked\n",
      "package 'isoband' successfully unpacked and MD5 sums checked\n",
      "package 'ids' successfully unpacked and MD5 sums checked\n",
      "package 'rematch2' successfully unpacked and MD5 sums checked\n",
      "package 'curl' successfully unpacked and MD5 sums checked\n",
      "package 'timechange' successfully unpacked and MD5 sums checked\n",
      "package 'systemfonts' successfully unpacked and MD5 sums checked\n",
      "package 'textshaping' successfully unpacked and MD5 sums checked\n",
      "package 'vroom' successfully unpacked and MD5 sums checked\n",
      "package 'tzdb' successfully unpacked and MD5 sums checked\n",
      "package 'stringi' successfully unpacked and MD5 sums checked\n",
      "package 'cli' successfully unpacked and MD5 sums checked\n",
      "package 'haven' successfully unpacked and MD5 sums checked\n",
      "package 'jsonlite' successfully unpacked and MD5 sums checked\n",
      "package 'magrittr' successfully unpacked and MD5 sums checked\n",
      "package 'ragg' successfully unpacked and MD5 sums checked\n",
      "package 'readxl' successfully unpacked and MD5 sums checked\n",
      "package 'rlang' successfully unpacked and MD5 sums checked\n",
      "package 'xml2' successfully unpacked and MD5 sums checked\n",
      "\n",
      "The downloaded binary packages are in\n",
      "\tC:\\Users\\daksh\\AppData\\Local\\Temp\\RtmpgRj5vF\\downloaded_packages\n"
     ]
    },
    {
     "name": "stderr",
     "output_type": "stream",
     "text": [
      "installing the source packages 'evaluate', 'lifecycle', 'memoise', 'blob', 'tidyselect', 'scales', 'withr', 'gargle', 'cpp11', 'callr', 'knitr', 'broom', 'conflicted', 'dbplyr', 'dtplyr', 'forcats', 'ggplot2', 'googledrive', 'googlesheets4', 'hms', 'httr', 'modelr', 'pillar', 'reprex', 'rstudioapi', 'rvest', 'stringr', 'tidyverse'\n",
      "\n",
      "also installing the dependencies 'cli', 'lifecycle', 'pillar', 'rlang', 'tibble', 'tidyselect', 'vctrs'\n",
      "\n"
     ]
    },
    {
     "name": "stdout",
     "output_type": "stream",
     "text": [
      "\n",
      "  There are binary versions available but the source versions are later:\n",
      "           binary source needs_compilation\n",
      "cli         2.5.0  3.6.1              TRUE\n",
      "lifecycle   1.0.0  1.0.3             FALSE\n",
      "pillar      1.6.0  1.9.0             FALSE\n",
      "rlang      0.4.11  1.1.1              TRUE\n",
      "tibble      3.1.1  3.2.1              TRUE\n",
      "tidyselect  1.1.1  1.2.0             FALSE\n",
      "vctrs       0.3.8  0.6.3              TRUE\n",
      "dplyr       1.0.6  1.1.2              TRUE\n",
      "\n",
      "  Binaries will be installed\n",
      "package 'cli' successfully unpacked and MD5 sums checked\n",
      "package 'rlang' successfully unpacked and MD5 sums checked\n",
      "package 'vctrs' successfully unpacked and MD5 sums checked\n",
      "\n",
      "The downloaded binary packages are in\n",
      "\tC:\\Users\\daksh\\AppData\\Local\\Temp\\RtmpgRj5vF\\downloaded_packages\n"
     ]
    },
    {
     "name": "stderr",
     "output_type": "stream",
     "text": [
      "installing the source packages 'lifecycle', 'pillar', 'tidyselect'\n",
      "\n",
      "also installing the dependencies 'pillar', 'tibble', 'glue', 'cli', 'dplyr', 'lifecycle', 'purrr', 'rlang', 'stringr', 'tidyselect', 'vctrs'\n",
      "\n"
     ]
    },
    {
     "name": "stdout",
     "output_type": "stream",
     "text": [
      "\n",
      "  There are binary versions available but the source versions are later:\n",
      "           binary source needs_compilation\n",
      "pillar      1.6.0  1.9.0             FALSE\n",
      "tibble      3.1.1  3.2.1              TRUE\n",
      "glue        1.4.2  1.6.2              TRUE\n",
      "cli         2.5.0  3.6.1              TRUE\n",
      "dplyr       1.0.6  1.1.2              TRUE\n",
      "lifecycle   1.0.0  1.0.3             FALSE\n",
      "purrr       0.3.4  1.0.2              TRUE\n",
      "rlang      0.4.11  1.1.1              TRUE\n",
      "stringr     1.4.0  1.5.0             FALSE\n",
      "tidyselect  1.1.1  1.2.0             FALSE\n",
      "vctrs       0.3.8  0.6.3              TRUE\n",
      "tidyr       1.1.3  1.3.0              TRUE\n",
      "\n",
      "  Binaries will be installed\n",
      "package 'glue' successfully unpacked and MD5 sums checked\n",
      "package 'cli' successfully unpacked and MD5 sums checked\n",
      "package 'rlang' successfully unpacked and MD5 sums checked\n",
      "package 'vctrs' successfully unpacked and MD5 sums checked\n",
      "\n",
      "The downloaded binary packages are in\n",
      "\tC:\\Users\\daksh\\AppData\\Local\\Temp\\RtmpgRj5vF\\downloaded_packages\n"
     ]
    },
    {
     "name": "stderr",
     "output_type": "stream",
     "text": [
      "installing the source packages 'pillar', 'lifecycle', 'stringr', 'tidyselect'\n",
      "\n",
      "also installing the dependencies 'vctrs', 'rlang', 'tidyselect', 'cli', 'hms', 'lifecycle', 'vroom'\n",
      "\n"
     ]
    },
    {
     "name": "stdout",
     "output_type": "stream",
     "text": [
      "\n",
      "  There are binary versions available but the source versions are later:\n",
      "           binary source needs_compilation\n",
      "vctrs       0.3.8  0.6.3              TRUE\n",
      "rlang      0.4.11  1.1.1              TRUE\n",
      "tidyselect  1.1.1  1.2.0             FALSE\n",
      "cli         2.5.0  3.6.1              TRUE\n",
      "hms         1.0.0  1.1.3             FALSE\n",
      "lifecycle   1.0.0  1.0.3             FALSE\n",
      "vroom       1.4.0  1.6.3              TRUE\n",
      "readr       1.4.0  2.1.4              TRUE\n",
      "\n",
      "  Binaries will be installed\n",
      "package 'vctrs' successfully unpacked and MD5 sums checked\n",
      "package 'rlang' successfully unpacked and MD5 sums checked\n",
      "package 'cli' successfully unpacked and MD5 sums checked\n",
      "package 'vroom' successfully unpacked and MD5 sums checked\n",
      "\n",
      "The downloaded binary packages are in\n",
      "\tC:\\Users\\daksh\\AppData\\Local\\Temp\\RtmpgRj5vF\\downloaded_packages\n"
     ]
    },
    {
     "name": "stderr",
     "output_type": "stream",
     "text": [
      "installing the source packages 'tidyselect', 'hms', 'lifecycle'\n",
      "\n",
      "also installing the dependency 'timechange'\n",
      "\n"
     ]
    },
    {
     "name": "stdout",
     "output_type": "stream",
     "text": [
      "\n",
      "  There are binary versions available but the source versions are later:\n",
      "           binary source needs_compilation\n",
      "timechange  0.0.2  0.2.0              TRUE\n",
      "lubridate  1.7.10  1.9.2              TRUE\n",
      "\n",
      "  Binaries will be installed\n",
      "package 'timechange' successfully unpacked and MD5 sums checked\n",
      "\n",
      "The downloaded binary packages are in\n",
      "\tC:\\Users\\daksh\\AppData\\Local\\Temp\\RtmpgRj5vF\\downloaded_packages\n"
     ]
    },
    {
     "name": "stderr",
     "output_type": "stream",
     "text": [
      "also installing the dependencies 'cli', 'lifecycle', 'rlang', 'scales', 'vctrs'\n",
      "\n"
     ]
    },
    {
     "name": "stdout",
     "output_type": "stream",
     "text": [
      "\n",
      "  There are binary versions available but the source versions are later:\n",
      "          binary source needs_compilation\n",
      "cli        2.5.0  3.6.1              TRUE\n",
      "lifecycle  1.0.0  1.0.3             FALSE\n",
      "rlang     0.4.11  1.1.1              TRUE\n",
      "scales     1.1.1  1.2.1             FALSE\n",
      "vctrs      0.3.8  0.6.3              TRUE\n",
      "ggplot2    3.3.3  3.4.3             FALSE\n",
      "\n",
      "  Binaries will be installed\n",
      "package 'cli' successfully unpacked and MD5 sums checked\n",
      "package 'rlang' successfully unpacked and MD5 sums checked\n",
      "package 'vctrs' successfully unpacked and MD5 sums checked\n",
      "\n",
      "The downloaded binary packages are in\n",
      "\tC:\\Users\\daksh\\AppData\\Local\\Temp\\RtmpgRj5vF\\downloaded_packages\n"
     ]
    },
    {
     "name": "stderr",
     "output_type": "stream",
     "text": [
      "installing the source packages 'lifecycle', 'scales', 'ggplot2'\n",
      "\n"
     ]
    },
    {
     "name": "stdout",
     "output_type": "stream",
     "text": [
      "package 'gridExtra' successfully unpacked and MD5 sums checked\n",
      "\n",
      "The downloaded binary packages are in\n",
      "\tC:\\Users\\daksh\\AppData\\Local\\Temp\\RtmpgRj5vF\\downloaded_packages\n"
     ]
    }
   ],
   "source": [
    "install.packages(\"tidyverse\")\n",
    "install.packages(\"dplyr\")\n",
    "install.packages(\"tidyr\")\n",
    "install.packages(\"readr\")\n",
    "install.packages(\"lubridate\")\n",
    "install.packages(\"ggplot2\")\n",
    "install.packages(\"gridExtra\")\n"
   ]
  },
  {
   "cell_type": "code",
   "execution_count": 30,
   "id": "9ffa7cb5",
   "metadata": {},
   "outputs": [
    {
     "name": "stderr",
     "output_type": "stream",
     "text": [
      "\n",
      "Attaching package: 'gridExtra'\n",
      "\n",
      "The following object is masked from 'package:dplyr':\n",
      "\n",
      "    combine\n",
      "\n"
     ]
    }
   ],
   "source": [
    "library(tidyverse)\n",
    "library(ggplot2)\n",
    "library(readr)\n",
    "library(dplyr)\n",
    "library(lubridate)\n",
    "library(gridExtra)\n",
    "library(gridExtra)\n",
    "\n",
    "\n",
    "\n",
    "\n",
    "options(warn = -1)\n"
   ]
  },
  {
   "cell_type": "markdown",
   "id": "298a16b4",
   "metadata": {},
   "source": [
    "### 2. Prepare\n",
    "For this case study, we use data that is available in public. [FitBit Fitness Tracker Data](https://www.kaggle.com/arashnic/fitbit) (CC0: Public Domain, dataset made available through Mobius): This Kaggle data set\n",
    "contains personal fitness tracker from thirty fitbit users. Thirty eligible Fitbit users consented to the submission of\n",
    "personal tracker data, including minute-level output for physical activity, heart rate, and sleep monitoring. It includes\n",
    "information about daily activity, steps, and heart rate that can be used to explore users’ habits."
   ]
  },
  {
   "cell_type": "markdown",
   "id": "a5c1cc16",
   "metadata": {},
   "source": [
    "After a quick check on all data files through Google sheets, we have selected few datasets which would cover big picture of user's health and which has sufficient data to consider like \n",
    "* Daily activities which shows a gradual trend of user's activity through days or week.\n",
    "* Sleep is important and having tracking data of it will help us suggest user to get sufficient sleep time .\n",
    "* Weight, hourly data of intensities and calories are selected to find any patterns which would be helpful and know the story.\n",
    "\n",
    "In this phase, we organise the data and perform sort and fliter operations as per requirement."
   ]
  },
  {
   "cell_type": "code",
   "execution_count": 31,
   "id": "19cce014",
   "metadata": {},
   "outputs": [
    {
     "name": "stderr",
     "output_type": "stream",
     "text": [
      "Parsed with column specification:\n",
      "cols(\n",
      "  Id = col_double(),\n",
      "  ActivityDate = col_character(),\n",
      "  TotalSteps = col_double(),\n",
      "  TotalDistance = col_double(),\n",
      "  TrackerDistance = col_double(),\n",
      "  LoggedActivitiesDistance = col_double(),\n",
      "  VeryActiveDistance = col_double(),\n",
      "  ModeratelyActiveDistance = col_double(),\n",
      "  LightActiveDistance = col_double(),\n",
      "  SedentaryActiveDistance = col_double(),\n",
      "  VeryActiveMinutes = col_double(),\n",
      "  FairlyActiveMinutes = col_double(),\n",
      "  LightlyActiveMinutes = col_double(),\n",
      "  SedentaryMinutes = col_double(),\n",
      "  Calories = col_double()\n",
      ")\n",
      "Parsed with column specification:\n",
      "cols(\n",
      "  Id = col_double(),\n",
      "  ActivityDay = col_character(),\n",
      "  Calories = col_double()\n",
      ")\n",
      "Parsed with column specification:\n",
      "cols(\n",
      "  Id = col_double(),\n",
      "  ActivityDay = col_character(),\n",
      "  SedentaryMinutes = col_double(),\n",
      "  LightlyActiveMinutes = col_double(),\n",
      "  FairlyActiveMinutes = col_double(),\n",
      "  VeryActiveMinutes = col_double(),\n",
      "  SedentaryActiveDistance = col_double(),\n",
      "  LightActiveDistance = col_double(),\n",
      "  ModeratelyActiveDistance = col_double(),\n",
      "  VeryActiveDistance = col_double()\n",
      ")\n",
      "Parsed with column specification:\n",
      "cols(\n",
      "  Id = col_double(),\n",
      "  ActivityDay = col_character(),\n",
      "  StepTotal = col_double()\n",
      ")\n",
      "Parsed with column specification:\n",
      "cols(\n",
      "  Id = col_double(),\n",
      "  SleepDay = col_character(),\n",
      "  TotalSleepRecords = col_double(),\n",
      "  TotalMinutesAsleep = col_double(),\n",
      "  TotalTimeInBed = col_double()\n",
      ")\n",
      "Parsed with column specification:\n",
      "cols(\n",
      "  Id = col_double(),\n",
      "  date = col_character(),\n",
      "  value = col_double(),\n",
      "  logId = col_double()\n",
      ")\n",
      "Parsed with column specification:\n",
      "cols(\n",
      "  Id = col_double(),\n",
      "  Date = col_character(),\n",
      "  WeightKg = col_double(),\n",
      "  WeightPounds = col_double(),\n",
      "  Fat = col_double(),\n",
      "  BMI = col_double(),\n",
      "  IsManualReport = col_logical(),\n",
      "  LogId = col_double()\n",
      ")\n",
      "Parsed with column specification:\n",
      "cols(\n",
      "  Id = col_double(),\n",
      "  ActivityHour = col_character(),\n",
      "  TotalIntensity = col_double(),\n",
      "  AverageIntensity = col_double()\n",
      ")\n",
      "Parsed with column specification:\n",
      "cols(\n",
      "  Id = col_double(),\n",
      "  ActivityHour = col_character(),\n",
      "  Calories = col_double()\n",
      ")\n",
      "Parsed with column specification:\n",
      "cols(\n",
      "  Id = col_double(),\n",
      "  ActivityHour = col_character(),\n",
      "  StepTotal = col_double()\n",
      ")\n"
     ]
    }
   ],
   "source": [
    "daily_Activity <- read_csv(\"E:/Projects/Google_data_analytics_capstone_project/archive_dataset/Fitabase Data 4.12.16-5.12.16/dailyActivity_merged.csv\")\n",
    "daily_calories <- read_csv(\"E:/Projects/Google_data_analytics_capstone_project/archive_dataset/Fitabase Data 4.12.16-5.12.16/dailyCalories_merged.csv\")\n",
    "daily_intensity <- read_csv(\"E:/Projects/Google_data_analytics_capstone_project/archive_dataset/Fitabase Data 4.12.16-5.12.16/dailyIntensities_merged.csv\")\n",
    "daily_steps <- read_csv(\"E:/Projects/Google_data_analytics_capstone_project/archive_dataset/Fitabase Data 4.12.16-5.12.16/dailySteps_merged.csv\")\n",
    "sleep_day <- read_csv(\"E:/Projects/Google_data_analytics_capstone_project/archive_dataset/Fitabase Data 4.12.16-5.12.16/sleepDay_merged.csv\")\n",
    "minute_sleep <- read_csv(\"E:/Projects/Google_data_analytics_capstone_project/archive_dataset/Fitabase Data 4.12.16-5.12.16/minuteSleep_merged.csv\")\n",
    "weight_log <- read_csv(\"E:/Projects/Google_data_analytics_capstone_project/archive_dataset/Fitabase Data 4.12.16-5.12.16/weightLogInfo_merged.csv\")\n",
    "hourly_intensity <- read_csv(\"E:/Projects/Google_data_analytics_capstone_project/archive_dataset/Fitabase Data 4.12.16-5.12.16/hourlyIntensities_merged.csv\")\n",
    "hourly_calories <- read_csv(\"E:/Projects/Google_data_analytics_capstone_project/archive_dataset/Fitabase Data 4.12.16-5.12.16/hourlyCalories_merged.csv\")\n",
    "hourly_steps <- read_csv(\"E:/Projects/Google_data_analytics_capstone_project/archive_dataset/Fitabase Data 4.12.16-5.12.16/hourlySteps_merged.csv\")"
   ]
  },
  {
   "cell_type": "markdown",
   "id": "558421bc",
   "metadata": {},
   "source": [
    "The user_ids being primary key, selecting appropriate datasets to merge to do analysis with proper number of users. Given the data consists of 30 user's tracking data. Population is small enough to consider for analysis. Although they don't represent all sections of people (e.g: male).\n",
    "\n",
    "Checking number of unique users in each dataframe."
   ]
  },
  {
   "cell_type": "code",
   "execution_count": 32,
   "id": "75778e52",
   "metadata": {},
   "outputs": [
    {
     "data": {
      "text/html": [
       "33"
      ],
      "text/latex": [
       "33"
      ],
      "text/markdown": [
       "33"
      ],
      "text/plain": [
       "[1] 33"
      ]
     },
     "metadata": {},
     "output_type": "display_data"
    },
    {
     "data": {
      "text/html": [
       "33"
      ],
      "text/latex": [
       "33"
      ],
      "text/markdown": [
       "33"
      ],
      "text/plain": [
       "[1] 33"
      ]
     },
     "metadata": {},
     "output_type": "display_data"
    },
    {
     "data": {
      "text/html": [
       "33"
      ],
      "text/latex": [
       "33"
      ],
      "text/markdown": [
       "33"
      ],
      "text/plain": [
       "[1] 33"
      ]
     },
     "metadata": {},
     "output_type": "display_data"
    },
    {
     "data": {
      "text/html": [
       "33"
      ],
      "text/latex": [
       "33"
      ],
      "text/markdown": [
       "33"
      ],
      "text/plain": [
       "[1] 33"
      ]
     },
     "metadata": {},
     "output_type": "display_data"
    },
    {
     "data": {
      "text/html": [
       "24"
      ],
      "text/latex": [
       "24"
      ],
      "text/markdown": [
       "24"
      ],
      "text/plain": [
       "[1] 24"
      ]
     },
     "metadata": {},
     "output_type": "display_data"
    },
    {
     "data": {
      "text/html": [
       "24"
      ],
      "text/latex": [
       "24"
      ],
      "text/markdown": [
       "24"
      ],
      "text/plain": [
       "[1] 24"
      ]
     },
     "metadata": {},
     "output_type": "display_data"
    },
    {
     "data": {
      "text/html": [
       "8"
      ],
      "text/latex": [
       "8"
      ],
      "text/markdown": [
       "8"
      ],
      "text/plain": [
       "[1] 8"
      ]
     },
     "metadata": {},
     "output_type": "display_data"
    },
    {
     "data": {
      "text/html": [
       "33"
      ],
      "text/latex": [
       "33"
      ],
      "text/markdown": [
       "33"
      ],
      "text/plain": [
       "[1] 33"
      ]
     },
     "metadata": {},
     "output_type": "display_data"
    },
    {
     "data": {
      "text/html": [
       "33"
      ],
      "text/latex": [
       "33"
      ],
      "text/markdown": [
       "33"
      ],
      "text/plain": [
       "[1] 33"
      ]
     },
     "metadata": {},
     "output_type": "display_data"
    },
    {
     "data": {
      "text/html": [
       "33"
      ],
      "text/latex": [
       "33"
      ],
      "text/markdown": [
       "33"
      ],
      "text/plain": [
       "[1] 33"
      ]
     },
     "metadata": {},
     "output_type": "display_data"
    }
   ],
   "source": [
    "n_distinct(daily_Activity$Id)\n",
    "n_distinct(daily_calories$Id)\n",
    "n_distinct(daily_intensity$Id)\n",
    "n_distinct(daily_steps$Id)\n",
    "n_distinct(sleep_day$Id)\n",
    "n_distinct(minute_sleep$Id)\n",
    "n_distinct(weight_log$Id)\n",
    "n_distinct(hourly_intensity$Id)\n",
    "n_distinct(hourly_calories$Id)\n",
    "n_distinct(hourly_steps$Id)"
   ]
  },
  {
   "cell_type": "markdown",
   "id": "468c7cca",
   "metadata": {},
   "source": [
    "Now that all data was processed, we are able to see min(date) and max(date) and n_distinct(df$id) for each data frame:\n",
    "* daily_activity data available for 2016-04-12 and 2016-05-12 with 33 unique IDs.\n",
    "* hourly_activity data available for 2016-04-12 and 2016-05-12 with with 33 unique Ids.\n",
    "* sleep data available for 2016-04-12 and 2016-05-12 with with 24 unique Ids.\n",
    "* weight_log data available for 2016-04-12 and 2016-05-12 with with 8 unique Ids.\n",
    "\n",
    "\n",
    "Only 24% and 73% of users are willing to track weight and sleep time respectively. "
   ]
  },
  {
   "cell_type": "code",
   "execution_count": 33,
   "id": "c3e423d6",
   "metadata": {
    "scrolled": false
   },
   "outputs": [
    {
     "data": {
      "text/html": [
       "<table>\n",
       "<thead><tr><th scope=col>Id</th><th scope=col>ActivityDate</th><th scope=col>TotalSteps</th><th scope=col>TotalDistance</th><th scope=col>TrackerDistance</th><th scope=col>LoggedActivitiesDistance</th><th scope=col>VeryActiveDistance</th><th scope=col>ModeratelyActiveDistance</th><th scope=col>LightActiveDistance</th><th scope=col>SedentaryActiveDistance</th><th scope=col>VeryActiveMinutes</th><th scope=col>FairlyActiveMinutes</th><th scope=col>LightlyActiveMinutes</th><th scope=col>SedentaryMinutes</th><th scope=col>Calories</th></tr></thead>\n",
       "<tbody>\n",
       "\t<tr><td>1503960366</td><td>4/12/2016 </td><td>13162     </td><td>8.50      </td><td>8.50      </td><td>0         </td><td>1.88      </td><td>0.55      </td><td>6.06      </td><td>0         </td><td>25        </td><td>13        </td><td>328       </td><td> 728      </td><td>1985      </td></tr>\n",
       "\t<tr><td>1503960366</td><td>4/13/2016 </td><td>10735     </td><td>6.97      </td><td>6.97      </td><td>0         </td><td>1.57      </td><td>0.69      </td><td>4.71      </td><td>0         </td><td>21        </td><td>19        </td><td>217       </td><td> 776      </td><td>1797      </td></tr>\n",
       "\t<tr><td>1503960366</td><td>4/14/2016 </td><td>10460     </td><td>6.74      </td><td>6.74      </td><td>0         </td><td>2.44      </td><td>0.40      </td><td>3.91      </td><td>0         </td><td>30        </td><td>11        </td><td>181       </td><td>1218      </td><td>1776      </td></tr>\n",
       "\t<tr><td>1503960366</td><td>4/15/2016 </td><td> 9762     </td><td>6.28      </td><td>6.28      </td><td>0         </td><td>2.14      </td><td>1.26      </td><td>2.83      </td><td>0         </td><td>29        </td><td>34        </td><td>209       </td><td> 726      </td><td>1745      </td></tr>\n",
       "\t<tr><td>1503960366</td><td>4/16/2016 </td><td>12669     </td><td>8.16      </td><td>8.16      </td><td>0         </td><td>2.71      </td><td>0.41      </td><td>5.04      </td><td>0         </td><td>36        </td><td>10        </td><td>221       </td><td> 773      </td><td>1863      </td></tr>\n",
       "\t<tr><td>1503960366</td><td>4/17/2016 </td><td> 9705     </td><td>6.48      </td><td>6.48      </td><td>0         </td><td>3.19      </td><td>0.78      </td><td>2.51      </td><td>0         </td><td>38        </td><td>20        </td><td>164       </td><td> 539      </td><td>1728      </td></tr>\n",
       "</tbody>\n",
       "</table>\n"
      ],
      "text/latex": [
       "\\begin{tabular}{r|lllllllllllllll}\n",
       " Id & ActivityDate & TotalSteps & TotalDistance & TrackerDistance & LoggedActivitiesDistance & VeryActiveDistance & ModeratelyActiveDistance & LightActiveDistance & SedentaryActiveDistance & VeryActiveMinutes & FairlyActiveMinutes & LightlyActiveMinutes & SedentaryMinutes & Calories\\\\\n",
       "\\hline\n",
       "\t 1503960366 & 4/12/2016  & 13162      & 8.50       & 8.50       & 0          & 1.88       & 0.55       & 6.06       & 0          & 25         & 13         & 328        &  728       & 1985      \\\\\n",
       "\t 1503960366 & 4/13/2016  & 10735      & 6.97       & 6.97       & 0          & 1.57       & 0.69       & 4.71       & 0          & 21         & 19         & 217        &  776       & 1797      \\\\\n",
       "\t 1503960366 & 4/14/2016  & 10460      & 6.74       & 6.74       & 0          & 2.44       & 0.40       & 3.91       & 0          & 30         & 11         & 181        & 1218       & 1776      \\\\\n",
       "\t 1503960366 & 4/15/2016  &  9762      & 6.28       & 6.28       & 0          & 2.14       & 1.26       & 2.83       & 0          & 29         & 34         & 209        &  726       & 1745      \\\\\n",
       "\t 1503960366 & 4/16/2016  & 12669      & 8.16       & 8.16       & 0          & 2.71       & 0.41       & 5.04       & 0          & 36         & 10         & 221        &  773       & 1863      \\\\\n",
       "\t 1503960366 & 4/17/2016  &  9705      & 6.48       & 6.48       & 0          & 3.19       & 0.78       & 2.51       & 0          & 38         & 20         & 164        &  539       & 1728      \\\\\n",
       "\\end{tabular}\n"
      ],
      "text/markdown": [
       "\n",
       "| Id | ActivityDate | TotalSteps | TotalDistance | TrackerDistance | LoggedActivitiesDistance | VeryActiveDistance | ModeratelyActiveDistance | LightActiveDistance | SedentaryActiveDistance | VeryActiveMinutes | FairlyActiveMinutes | LightlyActiveMinutes | SedentaryMinutes | Calories |\n",
       "|---|---|---|---|---|---|---|---|---|---|---|---|---|---|---|\n",
       "| 1503960366 | 4/12/2016  | 13162      | 8.50       | 8.50       | 0          | 1.88       | 0.55       | 6.06       | 0          | 25         | 13         | 328        |  728       | 1985       |\n",
       "| 1503960366 | 4/13/2016  | 10735      | 6.97       | 6.97       | 0          | 1.57       | 0.69       | 4.71       | 0          | 21         | 19         | 217        |  776       | 1797       |\n",
       "| 1503960366 | 4/14/2016  | 10460      | 6.74       | 6.74       | 0          | 2.44       | 0.40       | 3.91       | 0          | 30         | 11         | 181        | 1218       | 1776       |\n",
       "| 1503960366 | 4/15/2016  |  9762      | 6.28       | 6.28       | 0          | 2.14       | 1.26       | 2.83       | 0          | 29         | 34         | 209        |  726       | 1745       |\n",
       "| 1503960366 | 4/16/2016  | 12669      | 8.16       | 8.16       | 0          | 2.71       | 0.41       | 5.04       | 0          | 36         | 10         | 221        |  773       | 1863       |\n",
       "| 1503960366 | 4/17/2016  |  9705      | 6.48       | 6.48       | 0          | 3.19       | 0.78       | 2.51       | 0          | 38         | 20         | 164        |  539       | 1728       |\n",
       "\n"
      ],
      "text/plain": [
       "  Id         ActivityDate TotalSteps TotalDistance TrackerDistance\n",
       "1 1503960366 4/12/2016    13162      8.50          8.50           \n",
       "2 1503960366 4/13/2016    10735      6.97          6.97           \n",
       "3 1503960366 4/14/2016    10460      6.74          6.74           \n",
       "4 1503960366 4/15/2016     9762      6.28          6.28           \n",
       "5 1503960366 4/16/2016    12669      8.16          8.16           \n",
       "6 1503960366 4/17/2016     9705      6.48          6.48           \n",
       "  LoggedActivitiesDistance VeryActiveDistance ModeratelyActiveDistance\n",
       "1 0                        1.88               0.55                    \n",
       "2 0                        1.57               0.69                    \n",
       "3 0                        2.44               0.40                    \n",
       "4 0                        2.14               1.26                    \n",
       "5 0                        2.71               0.41                    \n",
       "6 0                        3.19               0.78                    \n",
       "  LightActiveDistance SedentaryActiveDistance VeryActiveMinutes\n",
       "1 6.06                0                       25               \n",
       "2 4.71                0                       21               \n",
       "3 3.91                0                       30               \n",
       "4 2.83                0                       29               \n",
       "5 5.04                0                       36               \n",
       "6 2.51                0                       38               \n",
       "  FairlyActiveMinutes LightlyActiveMinutes SedentaryMinutes Calories\n",
       "1 13                  328                   728             1985    \n",
       "2 19                  217                   776             1797    \n",
       "3 11                  181                  1218             1776    \n",
       "4 34                  209                   726             1745    \n",
       "5 10                  221                   773             1863    \n",
       "6 20                  164                   539             1728    "
      ]
     },
     "metadata": {},
     "output_type": "display_data"
    },
    {
     "name": "stdout",
     "output_type": "stream",
     "text": [
      "Classes 'spec_tbl_df', 'tbl_df', 'tbl' and 'data.frame':\t940 obs. of  15 variables:\n",
      " $ Id                      : num  1.5e+09 1.5e+09 1.5e+09 1.5e+09 1.5e+09 ...\n",
      " $ ActivityDate            : chr  \"4/12/2016\" \"4/13/2016\" \"4/14/2016\" \"4/15/2016\" ...\n",
      " $ TotalSteps              : num  13162 10735 10460 9762 12669 ...\n",
      " $ TotalDistance           : num  8.5 6.97 6.74 6.28 8.16 ...\n",
      " $ TrackerDistance         : num  8.5 6.97 6.74 6.28 8.16 ...\n",
      " $ LoggedActivitiesDistance: num  0 0 0 0 0 0 0 0 0 0 ...\n",
      " $ VeryActiveDistance      : num  1.88 1.57 2.44 2.14 2.71 ...\n",
      " $ ModeratelyActiveDistance: num  0.55 0.69 0.4 1.26 0.41 ...\n",
      " $ LightActiveDistance     : num  6.06 4.71 3.91 2.83 5.04 ...\n",
      " $ SedentaryActiveDistance : num  0 0 0 0 0 0 0 0 0 0 ...\n",
      " $ VeryActiveMinutes       : num  25 21 30 29 36 38 42 50 28 19 ...\n",
      " $ FairlyActiveMinutes     : num  13 19 11 34 10 20 16 31 12 8 ...\n",
      " $ LightlyActiveMinutes    : num  328 217 181 209 221 164 233 264 205 211 ...\n",
      " $ SedentaryMinutes        : num  728 776 1218 726 773 ...\n",
      " $ Calories                : num  1985 1797 1776 1745 1863 ...\n",
      " - attr(*, \"spec\")=\n",
      "  .. cols(\n",
      "  ..   Id = col_double(),\n",
      "  ..   ActivityDate = col_character(),\n",
      "  ..   TotalSteps = col_double(),\n",
      "  ..   TotalDistance = col_double(),\n",
      "  ..   TrackerDistance = col_double(),\n",
      "  ..   LoggedActivitiesDistance = col_double(),\n",
      "  ..   VeryActiveDistance = col_double(),\n",
      "  ..   ModeratelyActiveDistance = col_double(),\n",
      "  ..   LightActiveDistance = col_double(),\n",
      "  ..   SedentaryActiveDistance = col_double(),\n",
      "  ..   VeryActiveMinutes = col_double(),\n",
      "  ..   FairlyActiveMinutes = col_double(),\n",
      "  ..   LightlyActiveMinutes = col_double(),\n",
      "  ..   SedentaryMinutes = col_double(),\n",
      "  ..   Calories = col_double()\n",
      "  .. )\n"
     ]
    },
    {
     "data": {
      "text/html": [
       "<table>\n",
       "<thead><tr><th scope=col>Id</th><th scope=col>ActivityDay</th><th scope=col>Calories</th></tr></thead>\n",
       "<tbody>\n",
       "\t<tr><td>1503960366</td><td>4/12/2016 </td><td>1985      </td></tr>\n",
       "\t<tr><td>1503960366</td><td>4/13/2016 </td><td>1797      </td></tr>\n",
       "\t<tr><td>1503960366</td><td>4/14/2016 </td><td>1776      </td></tr>\n",
       "\t<tr><td>1503960366</td><td>4/15/2016 </td><td>1745      </td></tr>\n",
       "\t<tr><td>1503960366</td><td>4/16/2016 </td><td>1863      </td></tr>\n",
       "\t<tr><td>1503960366</td><td>4/17/2016 </td><td>1728      </td></tr>\n",
       "</tbody>\n",
       "</table>\n"
      ],
      "text/latex": [
       "\\begin{tabular}{r|lll}\n",
       " Id & ActivityDay & Calories\\\\\n",
       "\\hline\n",
       "\t 1503960366 & 4/12/2016  & 1985      \\\\\n",
       "\t 1503960366 & 4/13/2016  & 1797      \\\\\n",
       "\t 1503960366 & 4/14/2016  & 1776      \\\\\n",
       "\t 1503960366 & 4/15/2016  & 1745      \\\\\n",
       "\t 1503960366 & 4/16/2016  & 1863      \\\\\n",
       "\t 1503960366 & 4/17/2016  & 1728      \\\\\n",
       "\\end{tabular}\n"
      ],
      "text/markdown": [
       "\n",
       "| Id | ActivityDay | Calories |\n",
       "|---|---|---|\n",
       "| 1503960366 | 4/12/2016  | 1985       |\n",
       "| 1503960366 | 4/13/2016  | 1797       |\n",
       "| 1503960366 | 4/14/2016  | 1776       |\n",
       "| 1503960366 | 4/15/2016  | 1745       |\n",
       "| 1503960366 | 4/16/2016  | 1863       |\n",
       "| 1503960366 | 4/17/2016  | 1728       |\n",
       "\n"
      ],
      "text/plain": [
       "  Id         ActivityDay Calories\n",
       "1 1503960366 4/12/2016   1985    \n",
       "2 1503960366 4/13/2016   1797    \n",
       "3 1503960366 4/14/2016   1776    \n",
       "4 1503960366 4/15/2016   1745    \n",
       "5 1503960366 4/16/2016   1863    \n",
       "6 1503960366 4/17/2016   1728    "
      ]
     },
     "metadata": {},
     "output_type": "display_data"
    },
    {
     "name": "stdout",
     "output_type": "stream",
     "text": [
      "Classes 'spec_tbl_df', 'tbl_df', 'tbl' and 'data.frame':\t940 obs. of  3 variables:\n",
      " $ Id         : num  1.5e+09 1.5e+09 1.5e+09 1.5e+09 1.5e+09 ...\n",
      " $ ActivityDay: chr  \"4/12/2016\" \"4/13/2016\" \"4/14/2016\" \"4/15/2016\" ...\n",
      " $ Calories   : num  1985 1797 1776 1745 1863 ...\n",
      " - attr(*, \"spec\")=\n",
      "  .. cols(\n",
      "  ..   Id = col_double(),\n",
      "  ..   ActivityDay = col_character(),\n",
      "  ..   Calories = col_double()\n",
      "  .. )\n"
     ]
    },
    {
     "data": {
      "text/html": [
       "<table>\n",
       "<thead><tr><th scope=col>Id</th><th scope=col>ActivityDay</th><th scope=col>SedentaryMinutes</th><th scope=col>LightlyActiveMinutes</th><th scope=col>FairlyActiveMinutes</th><th scope=col>VeryActiveMinutes</th><th scope=col>SedentaryActiveDistance</th><th scope=col>LightActiveDistance</th><th scope=col>ModeratelyActiveDistance</th><th scope=col>VeryActiveDistance</th></tr></thead>\n",
       "<tbody>\n",
       "\t<tr><td>1503960366</td><td>4/12/2016 </td><td> 728      </td><td>328       </td><td>13        </td><td>25        </td><td>0         </td><td>6.06      </td><td>0.55      </td><td>1.88      </td></tr>\n",
       "\t<tr><td>1503960366</td><td>4/13/2016 </td><td> 776      </td><td>217       </td><td>19        </td><td>21        </td><td>0         </td><td>4.71      </td><td>0.69      </td><td>1.57      </td></tr>\n",
       "\t<tr><td>1503960366</td><td>4/14/2016 </td><td>1218      </td><td>181       </td><td>11        </td><td>30        </td><td>0         </td><td>3.91      </td><td>0.40      </td><td>2.44      </td></tr>\n",
       "\t<tr><td>1503960366</td><td>4/15/2016 </td><td> 726      </td><td>209       </td><td>34        </td><td>29        </td><td>0         </td><td>2.83      </td><td>1.26      </td><td>2.14      </td></tr>\n",
       "\t<tr><td>1503960366</td><td>4/16/2016 </td><td> 773      </td><td>221       </td><td>10        </td><td>36        </td><td>0         </td><td>5.04      </td><td>0.41      </td><td>2.71      </td></tr>\n",
       "\t<tr><td>1503960366</td><td>4/17/2016 </td><td> 539      </td><td>164       </td><td>20        </td><td>38        </td><td>0         </td><td>2.51      </td><td>0.78      </td><td>3.19      </td></tr>\n",
       "</tbody>\n",
       "</table>\n"
      ],
      "text/latex": [
       "\\begin{tabular}{r|llllllllll}\n",
       " Id & ActivityDay & SedentaryMinutes & LightlyActiveMinutes & FairlyActiveMinutes & VeryActiveMinutes & SedentaryActiveDistance & LightActiveDistance & ModeratelyActiveDistance & VeryActiveDistance\\\\\n",
       "\\hline\n",
       "\t 1503960366 & 4/12/2016  &  728       & 328        & 13         & 25         & 0          & 6.06       & 0.55       & 1.88      \\\\\n",
       "\t 1503960366 & 4/13/2016  &  776       & 217        & 19         & 21         & 0          & 4.71       & 0.69       & 1.57      \\\\\n",
       "\t 1503960366 & 4/14/2016  & 1218       & 181        & 11         & 30         & 0          & 3.91       & 0.40       & 2.44      \\\\\n",
       "\t 1503960366 & 4/15/2016  &  726       & 209        & 34         & 29         & 0          & 2.83       & 1.26       & 2.14      \\\\\n",
       "\t 1503960366 & 4/16/2016  &  773       & 221        & 10         & 36         & 0          & 5.04       & 0.41       & 2.71      \\\\\n",
       "\t 1503960366 & 4/17/2016  &  539       & 164        & 20         & 38         & 0          & 2.51       & 0.78       & 3.19      \\\\\n",
       "\\end{tabular}\n"
      ],
      "text/markdown": [
       "\n",
       "| Id | ActivityDay | SedentaryMinutes | LightlyActiveMinutes | FairlyActiveMinutes | VeryActiveMinutes | SedentaryActiveDistance | LightActiveDistance | ModeratelyActiveDistance | VeryActiveDistance |\n",
       "|---|---|---|---|---|---|---|---|---|---|\n",
       "| 1503960366 | 4/12/2016  |  728       | 328        | 13         | 25         | 0          | 6.06       | 0.55       | 1.88       |\n",
       "| 1503960366 | 4/13/2016  |  776       | 217        | 19         | 21         | 0          | 4.71       | 0.69       | 1.57       |\n",
       "| 1503960366 | 4/14/2016  | 1218       | 181        | 11         | 30         | 0          | 3.91       | 0.40       | 2.44       |\n",
       "| 1503960366 | 4/15/2016  |  726       | 209        | 34         | 29         | 0          | 2.83       | 1.26       | 2.14       |\n",
       "| 1503960366 | 4/16/2016  |  773       | 221        | 10         | 36         | 0          | 5.04       | 0.41       | 2.71       |\n",
       "| 1503960366 | 4/17/2016  |  539       | 164        | 20         | 38         | 0          | 2.51       | 0.78       | 3.19       |\n",
       "\n"
      ],
      "text/plain": [
       "  Id         ActivityDay SedentaryMinutes LightlyActiveMinutes\n",
       "1 1503960366 4/12/2016    728             328                 \n",
       "2 1503960366 4/13/2016    776             217                 \n",
       "3 1503960366 4/14/2016   1218             181                 \n",
       "4 1503960366 4/15/2016    726             209                 \n",
       "5 1503960366 4/16/2016    773             221                 \n",
       "6 1503960366 4/17/2016    539             164                 \n",
       "  FairlyActiveMinutes VeryActiveMinutes SedentaryActiveDistance\n",
       "1 13                  25                0                      \n",
       "2 19                  21                0                      \n",
       "3 11                  30                0                      \n",
       "4 34                  29                0                      \n",
       "5 10                  36                0                      \n",
       "6 20                  38                0                      \n",
       "  LightActiveDistance ModeratelyActiveDistance VeryActiveDistance\n",
       "1 6.06                0.55                     1.88              \n",
       "2 4.71                0.69                     1.57              \n",
       "3 3.91                0.40                     2.44              \n",
       "4 2.83                1.26                     2.14              \n",
       "5 5.04                0.41                     2.71              \n",
       "6 2.51                0.78                     3.19              "
      ]
     },
     "metadata": {},
     "output_type": "display_data"
    },
    {
     "name": "stdout",
     "output_type": "stream",
     "text": [
      "Classes 'spec_tbl_df', 'tbl_df', 'tbl' and 'data.frame':\t940 obs. of  10 variables:\n",
      " $ Id                      : num  1.5e+09 1.5e+09 1.5e+09 1.5e+09 1.5e+09 ...\n",
      " $ ActivityDay             : chr  \"4/12/2016\" \"4/13/2016\" \"4/14/2016\" \"4/15/2016\" ...\n",
      " $ SedentaryMinutes        : num  728 776 1218 726 773 ...\n",
      " $ LightlyActiveMinutes    : num  328 217 181 209 221 164 233 264 205 211 ...\n",
      " $ FairlyActiveMinutes     : num  13 19 11 34 10 20 16 31 12 8 ...\n",
      " $ VeryActiveMinutes       : num  25 21 30 29 36 38 42 50 28 19 ...\n",
      " $ SedentaryActiveDistance : num  0 0 0 0 0 0 0 0 0 0 ...\n",
      " $ LightActiveDistance     : num  6.06 4.71 3.91 2.83 5.04 ...\n",
      " $ ModeratelyActiveDistance: num  0.55 0.69 0.4 1.26 0.41 ...\n",
      " $ VeryActiveDistance      : num  1.88 1.57 2.44 2.14 2.71 ...\n",
      " - attr(*, \"spec\")=\n",
      "  .. cols(\n",
      "  ..   Id = col_double(),\n",
      "  ..   ActivityDay = col_character(),\n",
      "  ..   SedentaryMinutes = col_double(),\n",
      "  ..   LightlyActiveMinutes = col_double(),\n",
      "  ..   FairlyActiveMinutes = col_double(),\n",
      "  ..   VeryActiveMinutes = col_double(),\n",
      "  ..   SedentaryActiveDistance = col_double(),\n",
      "  ..   LightActiveDistance = col_double(),\n",
      "  ..   ModeratelyActiveDistance = col_double(),\n",
      "  ..   VeryActiveDistance = col_double()\n",
      "  .. )\n"
     ]
    },
    {
     "data": {
      "text/html": [
       "<table>\n",
       "<thead><tr><th scope=col>Id</th><th scope=col>ActivityDay</th><th scope=col>StepTotal</th></tr></thead>\n",
       "<tbody>\n",
       "\t<tr><td>1503960366</td><td>4/12/2016 </td><td>13162     </td></tr>\n",
       "\t<tr><td>1503960366</td><td>4/13/2016 </td><td>10735     </td></tr>\n",
       "\t<tr><td>1503960366</td><td>4/14/2016 </td><td>10460     </td></tr>\n",
       "\t<tr><td>1503960366</td><td>4/15/2016 </td><td> 9762     </td></tr>\n",
       "\t<tr><td>1503960366</td><td>4/16/2016 </td><td>12669     </td></tr>\n",
       "\t<tr><td>1503960366</td><td>4/17/2016 </td><td> 9705     </td></tr>\n",
       "</tbody>\n",
       "</table>\n"
      ],
      "text/latex": [
       "\\begin{tabular}{r|lll}\n",
       " Id & ActivityDay & StepTotal\\\\\n",
       "\\hline\n",
       "\t 1503960366 & 4/12/2016  & 13162     \\\\\n",
       "\t 1503960366 & 4/13/2016  & 10735     \\\\\n",
       "\t 1503960366 & 4/14/2016  & 10460     \\\\\n",
       "\t 1503960366 & 4/15/2016  &  9762     \\\\\n",
       "\t 1503960366 & 4/16/2016  & 12669     \\\\\n",
       "\t 1503960366 & 4/17/2016  &  9705     \\\\\n",
       "\\end{tabular}\n"
      ],
      "text/markdown": [
       "\n",
       "| Id | ActivityDay | StepTotal |\n",
       "|---|---|---|\n",
       "| 1503960366 | 4/12/2016  | 13162      |\n",
       "| 1503960366 | 4/13/2016  | 10735      |\n",
       "| 1503960366 | 4/14/2016  | 10460      |\n",
       "| 1503960366 | 4/15/2016  |  9762      |\n",
       "| 1503960366 | 4/16/2016  | 12669      |\n",
       "| 1503960366 | 4/17/2016  |  9705      |\n",
       "\n"
      ],
      "text/plain": [
       "  Id         ActivityDay StepTotal\n",
       "1 1503960366 4/12/2016   13162    \n",
       "2 1503960366 4/13/2016   10735    \n",
       "3 1503960366 4/14/2016   10460    \n",
       "4 1503960366 4/15/2016    9762    \n",
       "5 1503960366 4/16/2016   12669    \n",
       "6 1503960366 4/17/2016    9705    "
      ]
     },
     "metadata": {},
     "output_type": "display_data"
    },
    {
     "name": "stdout",
     "output_type": "stream",
     "text": [
      "Classes 'spec_tbl_df', 'tbl_df', 'tbl' and 'data.frame':\t940 obs. of  3 variables:\n",
      " $ Id         : num  1.5e+09 1.5e+09 1.5e+09 1.5e+09 1.5e+09 ...\n",
      " $ ActivityDay: chr  \"4/12/2016\" \"4/13/2016\" \"4/14/2016\" \"4/15/2016\" ...\n",
      " $ StepTotal  : num  13162 10735 10460 9762 12669 ...\n",
      " - attr(*, \"spec\")=\n",
      "  .. cols(\n",
      "  ..   Id = col_double(),\n",
      "  ..   ActivityDay = col_character(),\n",
      "  ..   StepTotal = col_double()\n",
      "  .. )\n"
     ]
    },
    {
     "data": {
      "text/html": [
       "<table>\n",
       "<thead><tr><th scope=col>Id</th><th scope=col>SleepDay</th><th scope=col>TotalSleepRecords</th><th scope=col>TotalMinutesAsleep</th><th scope=col>TotalTimeInBed</th></tr></thead>\n",
       "<tbody>\n",
       "\t<tr><td>1503960366           </td><td>4/12/2016 12:00:00 AM</td><td>1                    </td><td>327                  </td><td>346                  </td></tr>\n",
       "\t<tr><td>1503960366           </td><td>4/13/2016 12:00:00 AM</td><td>2                    </td><td>384                  </td><td>407                  </td></tr>\n",
       "\t<tr><td>1503960366           </td><td>4/15/2016 12:00:00 AM</td><td>1                    </td><td>412                  </td><td>442                  </td></tr>\n",
       "\t<tr><td>1503960366           </td><td>4/16/2016 12:00:00 AM</td><td>2                    </td><td>340                  </td><td>367                  </td></tr>\n",
       "\t<tr><td>1503960366           </td><td>4/17/2016 12:00:00 AM</td><td>1                    </td><td>700                  </td><td>712                  </td></tr>\n",
       "\t<tr><td>1503960366           </td><td>4/19/2016 12:00:00 AM</td><td>1                    </td><td>304                  </td><td>320                  </td></tr>\n",
       "</tbody>\n",
       "</table>\n"
      ],
      "text/latex": [
       "\\begin{tabular}{r|lllll}\n",
       " Id & SleepDay & TotalSleepRecords & TotalMinutesAsleep & TotalTimeInBed\\\\\n",
       "\\hline\n",
       "\t 1503960366            & 4/12/2016 12:00:00 AM & 1                     & 327                   & 346                  \\\\\n",
       "\t 1503960366            & 4/13/2016 12:00:00 AM & 2                     & 384                   & 407                  \\\\\n",
       "\t 1503960366            & 4/15/2016 12:00:00 AM & 1                     & 412                   & 442                  \\\\\n",
       "\t 1503960366            & 4/16/2016 12:00:00 AM & 2                     & 340                   & 367                  \\\\\n",
       "\t 1503960366            & 4/17/2016 12:00:00 AM & 1                     & 700                   & 712                  \\\\\n",
       "\t 1503960366            & 4/19/2016 12:00:00 AM & 1                     & 304                   & 320                  \\\\\n",
       "\\end{tabular}\n"
      ],
      "text/markdown": [
       "\n",
       "| Id | SleepDay | TotalSleepRecords | TotalMinutesAsleep | TotalTimeInBed |\n",
       "|---|---|---|---|---|\n",
       "| 1503960366            | 4/12/2016 12:00:00 AM | 1                     | 327                   | 346                   |\n",
       "| 1503960366            | 4/13/2016 12:00:00 AM | 2                     | 384                   | 407                   |\n",
       "| 1503960366            | 4/15/2016 12:00:00 AM | 1                     | 412                   | 442                   |\n",
       "| 1503960366            | 4/16/2016 12:00:00 AM | 2                     | 340                   | 367                   |\n",
       "| 1503960366            | 4/17/2016 12:00:00 AM | 1                     | 700                   | 712                   |\n",
       "| 1503960366            | 4/19/2016 12:00:00 AM | 1                     | 304                   | 320                   |\n",
       "\n"
      ],
      "text/plain": [
       "  Id         SleepDay              TotalSleepRecords TotalMinutesAsleep\n",
       "1 1503960366 4/12/2016 12:00:00 AM 1                 327               \n",
       "2 1503960366 4/13/2016 12:00:00 AM 2                 384               \n",
       "3 1503960366 4/15/2016 12:00:00 AM 1                 412               \n",
       "4 1503960366 4/16/2016 12:00:00 AM 2                 340               \n",
       "5 1503960366 4/17/2016 12:00:00 AM 1                 700               \n",
       "6 1503960366 4/19/2016 12:00:00 AM 1                 304               \n",
       "  TotalTimeInBed\n",
       "1 346           \n",
       "2 407           \n",
       "3 442           \n",
       "4 367           \n",
       "5 712           \n",
       "6 320           "
      ]
     },
     "metadata": {},
     "output_type": "display_data"
    },
    {
     "name": "stdout",
     "output_type": "stream",
     "text": [
      "Classes 'spec_tbl_df', 'tbl_df', 'tbl' and 'data.frame':\t413 obs. of  5 variables:\n",
      " $ Id                : num  1.5e+09 1.5e+09 1.5e+09 1.5e+09 1.5e+09 ...\n",
      " $ SleepDay          : chr  \"4/12/2016 12:00:00 AM\" \"4/13/2016 12:00:00 AM\" \"4/15/2016 12:00:00 AM\" \"4/16/2016 12:00:00 AM\" ...\n",
      " $ TotalSleepRecords : num  1 2 1 2 1 1 1 1 1 1 ...\n",
      " $ TotalMinutesAsleep: num  327 384 412 340 700 304 360 325 361 430 ...\n",
      " $ TotalTimeInBed    : num  346 407 442 367 712 320 377 364 384 449 ...\n",
      " - attr(*, \"spec\")=\n",
      "  .. cols(\n",
      "  ..   Id = col_double(),\n",
      "  ..   SleepDay = col_character(),\n",
      "  ..   TotalSleepRecords = col_double(),\n",
      "  ..   TotalMinutesAsleep = col_double(),\n",
      "  ..   TotalTimeInBed = col_double()\n",
      "  .. )\n"
     ]
    },
    {
     "data": {
      "text/html": [
       "<table>\n",
       "<thead><tr><th scope=col>Id</th><th scope=col>date</th><th scope=col>value</th><th scope=col>logId</th></tr></thead>\n",
       "<tbody>\n",
       "\t<tr><td>1503960366          </td><td>4/12/2016 2:47:30 AM</td><td>3                   </td><td>11380564589         </td></tr>\n",
       "\t<tr><td>1503960366          </td><td>4/12/2016 2:48:30 AM</td><td>2                   </td><td>11380564589         </td></tr>\n",
       "\t<tr><td>1503960366          </td><td>4/12/2016 2:49:30 AM</td><td>1                   </td><td>11380564589         </td></tr>\n",
       "\t<tr><td>1503960366          </td><td>4/12/2016 2:50:30 AM</td><td>1                   </td><td>11380564589         </td></tr>\n",
       "\t<tr><td>1503960366          </td><td>4/12/2016 2:51:30 AM</td><td>1                   </td><td>11380564589         </td></tr>\n",
       "\t<tr><td>1503960366          </td><td>4/12/2016 2:52:30 AM</td><td>1                   </td><td>11380564589         </td></tr>\n",
       "</tbody>\n",
       "</table>\n"
      ],
      "text/latex": [
       "\\begin{tabular}{r|llll}\n",
       " Id & date & value & logId\\\\\n",
       "\\hline\n",
       "\t 1503960366           & 4/12/2016 2:47:30 AM & 3                    & 11380564589         \\\\\n",
       "\t 1503960366           & 4/12/2016 2:48:30 AM & 2                    & 11380564589         \\\\\n",
       "\t 1503960366           & 4/12/2016 2:49:30 AM & 1                    & 11380564589         \\\\\n",
       "\t 1503960366           & 4/12/2016 2:50:30 AM & 1                    & 11380564589         \\\\\n",
       "\t 1503960366           & 4/12/2016 2:51:30 AM & 1                    & 11380564589         \\\\\n",
       "\t 1503960366           & 4/12/2016 2:52:30 AM & 1                    & 11380564589         \\\\\n",
       "\\end{tabular}\n"
      ],
      "text/markdown": [
       "\n",
       "| Id | date | value | logId |\n",
       "|---|---|---|---|\n",
       "| 1503960366           | 4/12/2016 2:47:30 AM | 3                    | 11380564589          |\n",
       "| 1503960366           | 4/12/2016 2:48:30 AM | 2                    | 11380564589          |\n",
       "| 1503960366           | 4/12/2016 2:49:30 AM | 1                    | 11380564589          |\n",
       "| 1503960366           | 4/12/2016 2:50:30 AM | 1                    | 11380564589          |\n",
       "| 1503960366           | 4/12/2016 2:51:30 AM | 1                    | 11380564589          |\n",
       "| 1503960366           | 4/12/2016 2:52:30 AM | 1                    | 11380564589          |\n",
       "\n"
      ],
      "text/plain": [
       "  Id         date                 value logId      \n",
       "1 1503960366 4/12/2016 2:47:30 AM 3     11380564589\n",
       "2 1503960366 4/12/2016 2:48:30 AM 2     11380564589\n",
       "3 1503960366 4/12/2016 2:49:30 AM 1     11380564589\n",
       "4 1503960366 4/12/2016 2:50:30 AM 1     11380564589\n",
       "5 1503960366 4/12/2016 2:51:30 AM 1     11380564589\n",
       "6 1503960366 4/12/2016 2:52:30 AM 1     11380564589"
      ]
     },
     "metadata": {},
     "output_type": "display_data"
    },
    {
     "name": "stdout",
     "output_type": "stream",
     "text": [
      "Classes 'spec_tbl_df', 'tbl_df', 'tbl' and 'data.frame':\t188521 obs. of  4 variables:\n",
      " $ Id   : num  1.5e+09 1.5e+09 1.5e+09 1.5e+09 1.5e+09 ...\n",
      " $ date : chr  \"4/12/2016 2:47:30 AM\" \"4/12/2016 2:48:30 AM\" \"4/12/2016 2:49:30 AM\" \"4/12/2016 2:50:30 AM\" ...\n",
      " $ value: num  3 2 1 1 1 1 1 2 2 2 ...\n",
      " $ logId: num  1.14e+10 1.14e+10 1.14e+10 1.14e+10 1.14e+10 ...\n",
      " - attr(*, \"spec\")=\n",
      "  .. cols(\n",
      "  ..   Id = col_double(),\n",
      "  ..   date = col_character(),\n",
      "  ..   value = col_double(),\n",
      "  ..   logId = col_double()\n",
      "  .. )\n"
     ]
    },
    {
     "data": {
      "text/html": [
       "<table>\n",
       "<thead><tr><th scope=col>Id</th><th scope=col>Date</th><th scope=col>WeightKg</th><th scope=col>WeightPounds</th><th scope=col>Fat</th><th scope=col>BMI</th><th scope=col>IsManualReport</th><th scope=col>LogId</th></tr></thead>\n",
       "<tbody>\n",
       "\t<tr><td>1503960366           </td><td>5/2/2016 11:59:59 PM </td><td> 52.6                </td><td>115.9631             </td><td>22                   </td><td>22.65                </td><td> TRUE                </td><td>1.462234e+12         </td></tr>\n",
       "\t<tr><td>1503960366           </td><td>5/3/2016 11:59:59 PM </td><td> 52.6                </td><td>115.9631             </td><td>NA                   </td><td>22.65                </td><td> TRUE                </td><td>1.462320e+12         </td></tr>\n",
       "\t<tr><td>1927972279           </td><td>4/13/2016 1:08:52 AM </td><td>133.5                </td><td>294.3171             </td><td>NA                   </td><td>47.54                </td><td>FALSE                </td><td>1.460510e+12         </td></tr>\n",
       "\t<tr><td>2873212765           </td><td>4/21/2016 11:59:59 PM</td><td> 56.7                </td><td>125.0021             </td><td>NA                   </td><td>21.45                </td><td> TRUE                </td><td>1.461283e+12         </td></tr>\n",
       "\t<tr><td>2873212765           </td><td>5/12/2016 11:59:59 PM</td><td> 57.3                </td><td>126.3249             </td><td>NA                   </td><td>21.69                </td><td> TRUE                </td><td>1.463098e+12         </td></tr>\n",
       "\t<tr><td>4319703577           </td><td>4/17/2016 11:59:59 PM</td><td> 72.4                </td><td>159.6147             </td><td>25                   </td><td>27.45                </td><td> TRUE                </td><td>1.460938e+12         </td></tr>\n",
       "</tbody>\n",
       "</table>\n"
      ],
      "text/latex": [
       "\\begin{tabular}{r|llllllll}\n",
       " Id & Date & WeightKg & WeightPounds & Fat & BMI & IsManualReport & LogId\\\\\n",
       "\\hline\n",
       "\t 1503960366            & 5/2/2016 11:59:59 PM  &  52.6                 & 115.9631              & 22                    & 22.65                 &  TRUE                 & 1.462234e+12         \\\\\n",
       "\t 1503960366            & 5/3/2016 11:59:59 PM  &  52.6                 & 115.9631              & NA                    & 22.65                 &  TRUE                 & 1.462320e+12         \\\\\n",
       "\t 1927972279            & 4/13/2016 1:08:52 AM  & 133.5                 & 294.3171              & NA                    & 47.54                 & FALSE                 & 1.460510e+12         \\\\\n",
       "\t 2873212765            & 4/21/2016 11:59:59 PM &  56.7                 & 125.0021              & NA                    & 21.45                 &  TRUE                 & 1.461283e+12         \\\\\n",
       "\t 2873212765            & 5/12/2016 11:59:59 PM &  57.3                 & 126.3249              & NA                    & 21.69                 &  TRUE                 & 1.463098e+12         \\\\\n",
       "\t 4319703577            & 4/17/2016 11:59:59 PM &  72.4                 & 159.6147              & 25                    & 27.45                 &  TRUE                 & 1.460938e+12         \\\\\n",
       "\\end{tabular}\n"
      ],
      "text/markdown": [
       "\n",
       "| Id | Date | WeightKg | WeightPounds | Fat | BMI | IsManualReport | LogId |\n",
       "|---|---|---|---|---|---|---|---|\n",
       "| 1503960366            | 5/2/2016 11:59:59 PM  |  52.6                 | 115.9631              | 22                    | 22.65                 |  TRUE                 | 1.462234e+12          |\n",
       "| 1503960366            | 5/3/2016 11:59:59 PM  |  52.6                 | 115.9631              | NA                    | 22.65                 |  TRUE                 | 1.462320e+12          |\n",
       "| 1927972279            | 4/13/2016 1:08:52 AM  | 133.5                 | 294.3171              | NA                    | 47.54                 | FALSE                 | 1.460510e+12          |\n",
       "| 2873212765            | 4/21/2016 11:59:59 PM |  56.7                 | 125.0021              | NA                    | 21.45                 |  TRUE                 | 1.461283e+12          |\n",
       "| 2873212765            | 5/12/2016 11:59:59 PM |  57.3                 | 126.3249              | NA                    | 21.69                 |  TRUE                 | 1.463098e+12          |\n",
       "| 4319703577            | 4/17/2016 11:59:59 PM |  72.4                 | 159.6147              | 25                    | 27.45                 |  TRUE                 | 1.460938e+12          |\n",
       "\n"
      ],
      "text/plain": [
       "  Id         Date                  WeightKg WeightPounds Fat BMI  \n",
       "1 1503960366 5/2/2016 11:59:59 PM   52.6    115.9631     22  22.65\n",
       "2 1503960366 5/3/2016 11:59:59 PM   52.6    115.9631     NA  22.65\n",
       "3 1927972279 4/13/2016 1:08:52 AM  133.5    294.3171     NA  47.54\n",
       "4 2873212765 4/21/2016 11:59:59 PM  56.7    125.0021     NA  21.45\n",
       "5 2873212765 5/12/2016 11:59:59 PM  57.3    126.3249     NA  21.69\n",
       "6 4319703577 4/17/2016 11:59:59 PM  72.4    159.6147     25  27.45\n",
       "  IsManualReport LogId       \n",
       "1  TRUE          1.462234e+12\n",
       "2  TRUE          1.462320e+12\n",
       "3 FALSE          1.460510e+12\n",
       "4  TRUE          1.461283e+12\n",
       "5  TRUE          1.463098e+12\n",
       "6  TRUE          1.460938e+12"
      ]
     },
     "metadata": {},
     "output_type": "display_data"
    },
    {
     "name": "stdout",
     "output_type": "stream",
     "text": [
      "Classes 'spec_tbl_df', 'tbl_df', 'tbl' and 'data.frame':\t67 obs. of  8 variables:\n",
      " $ Id            : num  1.50e+09 1.50e+09 1.93e+09 2.87e+09 2.87e+09 ...\n",
      " $ Date          : chr  \"5/2/2016 11:59:59 PM\" \"5/3/2016 11:59:59 PM\" \"4/13/2016 1:08:52 AM\" \"4/21/2016 11:59:59 PM\" ...\n",
      " $ WeightKg      : num  52.6 52.6 133.5 56.7 57.3 ...\n",
      " $ WeightPounds  : num  116 116 294 125 126 ...\n",
      " $ Fat           : num  22 NA NA NA NA 25 NA NA NA NA ...\n",
      " $ BMI           : num  22.6 22.6 47.5 21.5 21.7 ...\n",
      " $ IsManualReport: logi  TRUE TRUE FALSE TRUE TRUE TRUE ...\n",
      " $ LogId         : num  1.46e+12 1.46e+12 1.46e+12 1.46e+12 1.46e+12 ...\n",
      " - attr(*, \"spec\")=\n",
      "  .. cols(\n",
      "  ..   Id = col_double(),\n",
      "  ..   Date = col_character(),\n",
      "  ..   WeightKg = col_double(),\n",
      "  ..   WeightPounds = col_double(),\n",
      "  ..   Fat = col_double(),\n",
      "  ..   BMI = col_double(),\n",
      "  ..   IsManualReport = col_logical(),\n",
      "  ..   LogId = col_double()\n",
      "  .. )\n"
     ]
    },
    {
     "data": {
      "text/html": [
       "<table>\n",
       "<thead><tr><th scope=col>Id</th><th scope=col>ActivityHour</th><th scope=col>TotalIntensity</th><th scope=col>AverageIntensity</th></tr></thead>\n",
       "<tbody>\n",
       "\t<tr><td>1503960366           </td><td>4/12/2016 12:00:00 AM</td><td>20                   </td><td>0.333333             </td></tr>\n",
       "\t<tr><td>1503960366           </td><td>4/12/2016 1:00:00 AM </td><td> 8                   </td><td>0.133333             </td></tr>\n",
       "\t<tr><td>1503960366           </td><td>4/12/2016 2:00:00 AM </td><td> 7                   </td><td>0.116667             </td></tr>\n",
       "\t<tr><td>1503960366           </td><td>4/12/2016 3:00:00 AM </td><td> 0                   </td><td>0.000000             </td></tr>\n",
       "\t<tr><td>1503960366           </td><td>4/12/2016 4:00:00 AM </td><td> 0                   </td><td>0.000000             </td></tr>\n",
       "\t<tr><td>1503960366           </td><td>4/12/2016 5:00:00 AM </td><td> 0                   </td><td>0.000000             </td></tr>\n",
       "</tbody>\n",
       "</table>\n"
      ],
      "text/latex": [
       "\\begin{tabular}{r|llll}\n",
       " Id & ActivityHour & TotalIntensity & AverageIntensity\\\\\n",
       "\\hline\n",
       "\t 1503960366            & 4/12/2016 12:00:00 AM & 20                    & 0.333333             \\\\\n",
       "\t 1503960366            & 4/12/2016 1:00:00 AM  &  8                    & 0.133333             \\\\\n",
       "\t 1503960366            & 4/12/2016 2:00:00 AM  &  7                    & 0.116667             \\\\\n",
       "\t 1503960366            & 4/12/2016 3:00:00 AM  &  0                    & 0.000000             \\\\\n",
       "\t 1503960366            & 4/12/2016 4:00:00 AM  &  0                    & 0.000000             \\\\\n",
       "\t 1503960366            & 4/12/2016 5:00:00 AM  &  0                    & 0.000000             \\\\\n",
       "\\end{tabular}\n"
      ],
      "text/markdown": [
       "\n",
       "| Id | ActivityHour | TotalIntensity | AverageIntensity |\n",
       "|---|---|---|---|\n",
       "| 1503960366            | 4/12/2016 12:00:00 AM | 20                    | 0.333333              |\n",
       "| 1503960366            | 4/12/2016 1:00:00 AM  |  8                    | 0.133333              |\n",
       "| 1503960366            | 4/12/2016 2:00:00 AM  |  7                    | 0.116667              |\n",
       "| 1503960366            | 4/12/2016 3:00:00 AM  |  0                    | 0.000000              |\n",
       "| 1503960366            | 4/12/2016 4:00:00 AM  |  0                    | 0.000000              |\n",
       "| 1503960366            | 4/12/2016 5:00:00 AM  |  0                    | 0.000000              |\n",
       "\n"
      ],
      "text/plain": [
       "  Id         ActivityHour          TotalIntensity AverageIntensity\n",
       "1 1503960366 4/12/2016 12:00:00 AM 20             0.333333        \n",
       "2 1503960366 4/12/2016 1:00:00 AM   8             0.133333        \n",
       "3 1503960366 4/12/2016 2:00:00 AM   7             0.116667        \n",
       "4 1503960366 4/12/2016 3:00:00 AM   0             0.000000        \n",
       "5 1503960366 4/12/2016 4:00:00 AM   0             0.000000        \n",
       "6 1503960366 4/12/2016 5:00:00 AM   0             0.000000        "
      ]
     },
     "metadata": {},
     "output_type": "display_data"
    },
    {
     "name": "stdout",
     "output_type": "stream",
     "text": [
      "Classes 'spec_tbl_df', 'tbl_df', 'tbl' and 'data.frame':\t22099 obs. of  4 variables:\n",
      " $ Id              : num  1.5e+09 1.5e+09 1.5e+09 1.5e+09 1.5e+09 ...\n",
      " $ ActivityHour    : chr  \"4/12/2016 12:00:00 AM\" \"4/12/2016 1:00:00 AM\" \"4/12/2016 2:00:00 AM\" \"4/12/2016 3:00:00 AM\" ...\n",
      " $ TotalIntensity  : num  20 8 7 0 0 0 0 0 13 30 ...\n",
      " $ AverageIntensity: num  0.333 0.133 0.117 0 0 ...\n",
      " - attr(*, \"spec\")=\n",
      "  .. cols(\n",
      "  ..   Id = col_double(),\n",
      "  ..   ActivityHour = col_character(),\n",
      "  ..   TotalIntensity = col_double(),\n",
      "  ..   AverageIntensity = col_double()\n",
      "  .. )\n"
     ]
    },
    {
     "data": {
      "text/html": [
       "<table>\n",
       "<thead><tr><th scope=col>Id</th><th scope=col>ActivityHour</th><th scope=col>Calories</th></tr></thead>\n",
       "<tbody>\n",
       "\t<tr><td>1503960366           </td><td>4/12/2016 12:00:00 AM</td><td>81                   </td></tr>\n",
       "\t<tr><td>1503960366           </td><td>4/12/2016 1:00:00 AM </td><td>61                   </td></tr>\n",
       "\t<tr><td>1503960366           </td><td>4/12/2016 2:00:00 AM </td><td>59                   </td></tr>\n",
       "\t<tr><td>1503960366           </td><td>4/12/2016 3:00:00 AM </td><td>47                   </td></tr>\n",
       "\t<tr><td>1503960366           </td><td>4/12/2016 4:00:00 AM </td><td>48                   </td></tr>\n",
       "\t<tr><td>1503960366           </td><td>4/12/2016 5:00:00 AM </td><td>48                   </td></tr>\n",
       "</tbody>\n",
       "</table>\n"
      ],
      "text/latex": [
       "\\begin{tabular}{r|lll}\n",
       " Id & ActivityHour & Calories\\\\\n",
       "\\hline\n",
       "\t 1503960366            & 4/12/2016 12:00:00 AM & 81                   \\\\\n",
       "\t 1503960366            & 4/12/2016 1:00:00 AM  & 61                   \\\\\n",
       "\t 1503960366            & 4/12/2016 2:00:00 AM  & 59                   \\\\\n",
       "\t 1503960366            & 4/12/2016 3:00:00 AM  & 47                   \\\\\n",
       "\t 1503960366            & 4/12/2016 4:00:00 AM  & 48                   \\\\\n",
       "\t 1503960366            & 4/12/2016 5:00:00 AM  & 48                   \\\\\n",
       "\\end{tabular}\n"
      ],
      "text/markdown": [
       "\n",
       "| Id | ActivityHour | Calories |\n",
       "|---|---|---|\n",
       "| 1503960366            | 4/12/2016 12:00:00 AM | 81                    |\n",
       "| 1503960366            | 4/12/2016 1:00:00 AM  | 61                    |\n",
       "| 1503960366            | 4/12/2016 2:00:00 AM  | 59                    |\n",
       "| 1503960366            | 4/12/2016 3:00:00 AM  | 47                    |\n",
       "| 1503960366            | 4/12/2016 4:00:00 AM  | 48                    |\n",
       "| 1503960366            | 4/12/2016 5:00:00 AM  | 48                    |\n",
       "\n"
      ],
      "text/plain": [
       "  Id         ActivityHour          Calories\n",
       "1 1503960366 4/12/2016 12:00:00 AM 81      \n",
       "2 1503960366 4/12/2016 1:00:00 AM  61      \n",
       "3 1503960366 4/12/2016 2:00:00 AM  59      \n",
       "4 1503960366 4/12/2016 3:00:00 AM  47      \n",
       "5 1503960366 4/12/2016 4:00:00 AM  48      \n",
       "6 1503960366 4/12/2016 5:00:00 AM  48      "
      ]
     },
     "metadata": {},
     "output_type": "display_data"
    },
    {
     "name": "stdout",
     "output_type": "stream",
     "text": [
      "Classes 'spec_tbl_df', 'tbl_df', 'tbl' and 'data.frame':\t22099 obs. of  3 variables:\n",
      " $ Id          : num  1.5e+09 1.5e+09 1.5e+09 1.5e+09 1.5e+09 ...\n",
      " $ ActivityHour: chr  \"4/12/2016 12:00:00 AM\" \"4/12/2016 1:00:00 AM\" \"4/12/2016 2:00:00 AM\" \"4/12/2016 3:00:00 AM\" ...\n",
      " $ Calories    : num  81 61 59 47 48 48 48 47 68 141 ...\n",
      " - attr(*, \"spec\")=\n",
      "  .. cols(\n",
      "  ..   Id = col_double(),\n",
      "  ..   ActivityHour = col_character(),\n",
      "  ..   Calories = col_double()\n",
      "  .. )\n"
     ]
    },
    {
     "data": {
      "text/html": [
       "<table>\n",
       "<thead><tr><th scope=col>Id</th><th scope=col>ActivityHour</th><th scope=col>StepTotal</th></tr></thead>\n",
       "<tbody>\n",
       "\t<tr><td>1503960366           </td><td>4/12/2016 12:00:00 AM</td><td>373                  </td></tr>\n",
       "\t<tr><td>1503960366           </td><td>4/12/2016 1:00:00 AM </td><td>160                  </td></tr>\n",
       "\t<tr><td>1503960366           </td><td>4/12/2016 2:00:00 AM </td><td>151                  </td></tr>\n",
       "\t<tr><td>1503960366           </td><td>4/12/2016 3:00:00 AM </td><td>  0                  </td></tr>\n",
       "\t<tr><td>1503960366           </td><td>4/12/2016 4:00:00 AM </td><td>  0                  </td></tr>\n",
       "\t<tr><td>1503960366           </td><td>4/12/2016 5:00:00 AM </td><td>  0                  </td></tr>\n",
       "</tbody>\n",
       "</table>\n"
      ],
      "text/latex": [
       "\\begin{tabular}{r|lll}\n",
       " Id & ActivityHour & StepTotal\\\\\n",
       "\\hline\n",
       "\t 1503960366            & 4/12/2016 12:00:00 AM & 373                  \\\\\n",
       "\t 1503960366            & 4/12/2016 1:00:00 AM  & 160                  \\\\\n",
       "\t 1503960366            & 4/12/2016 2:00:00 AM  & 151                  \\\\\n",
       "\t 1503960366            & 4/12/2016 3:00:00 AM  &   0                  \\\\\n",
       "\t 1503960366            & 4/12/2016 4:00:00 AM  &   0                  \\\\\n",
       "\t 1503960366            & 4/12/2016 5:00:00 AM  &   0                  \\\\\n",
       "\\end{tabular}\n"
      ],
      "text/markdown": [
       "\n",
       "| Id | ActivityHour | StepTotal |\n",
       "|---|---|---|\n",
       "| 1503960366            | 4/12/2016 12:00:00 AM | 373                   |\n",
       "| 1503960366            | 4/12/2016 1:00:00 AM  | 160                   |\n",
       "| 1503960366            | 4/12/2016 2:00:00 AM  | 151                   |\n",
       "| 1503960366            | 4/12/2016 3:00:00 AM  |   0                   |\n",
       "| 1503960366            | 4/12/2016 4:00:00 AM  |   0                   |\n",
       "| 1503960366            | 4/12/2016 5:00:00 AM  |   0                   |\n",
       "\n"
      ],
      "text/plain": [
       "  Id         ActivityHour          StepTotal\n",
       "1 1503960366 4/12/2016 12:00:00 AM 373      \n",
       "2 1503960366 4/12/2016 1:00:00 AM  160      \n",
       "3 1503960366 4/12/2016 2:00:00 AM  151      \n",
       "4 1503960366 4/12/2016 3:00:00 AM    0      \n",
       "5 1503960366 4/12/2016 4:00:00 AM    0      \n",
       "6 1503960366 4/12/2016 5:00:00 AM    0      "
      ]
     },
     "metadata": {},
     "output_type": "display_data"
    },
    {
     "name": "stdout",
     "output_type": "stream",
     "text": [
      "Classes 'spec_tbl_df', 'tbl_df', 'tbl' and 'data.frame':\t22099 obs. of  3 variables:\n",
      " $ Id          : num  1.5e+09 1.5e+09 1.5e+09 1.5e+09 1.5e+09 ...\n",
      " $ ActivityHour: chr  \"4/12/2016 12:00:00 AM\" \"4/12/2016 1:00:00 AM\" \"4/12/2016 2:00:00 AM\" \"4/12/2016 3:00:00 AM\" ...\n",
      " $ StepTotal   : num  373 160 151 0 0 ...\n",
      " - attr(*, \"spec\")=\n",
      "  .. cols(\n",
      "  ..   Id = col_double(),\n",
      "  ..   ActivityHour = col_character(),\n",
      "  ..   StepTotal = col_double()\n",
      "  .. )\n"
     ]
    }
   ],
   "source": [
    "# Looking at first few rows\n",
    "head(daily_Activity) \n",
    "# Data types of columns \n",
    "str(daily_Activity)\n",
    "\n",
    "head(daily_calories)\n",
    "str(daily_calories)\n",
    "\n",
    "head(daily_intensity)\n",
    "str(daily_intensity)\n",
    "\n",
    "head(daily_steps)\n",
    "str(daily_steps)\n",
    "\n",
    "head(sleep_day)\n",
    "str(sleep_day)\n",
    "\n",
    "head(minute_sleep)\n",
    "str(minute_sleep)\n",
    "\n",
    "head(weight_log)\n",
    "str(weight_log)\n",
    "\n",
    "head(hourly_intensity)\n",
    "str(hourly_intensity)\n",
    "\n",
    "head(hourly_calories)\n",
    "str(hourly_calories)\n",
    "\n",
    "head(hourly_steps)\n",
    "str(hourly_steps)"
   ]
  },
  {
   "cell_type": "markdown",
   "id": "14001363",
   "metadata": {},
   "source": [
    "Since daily activities like calories, intensities and steps are already merged in **daily_Activity** dataframe. Considering **daily_Activity** data for further analysis. Likewise, merging hourly activity data into one dataframe for simplicity."
   ]
  },
  {
   "cell_type": "code",
   "execution_count": 34,
   "id": "9374e702",
   "metadata": {},
   "outputs": [
    {
     "data": {
      "text/html": [
       "0"
      ],
      "text/latex": [
       "0"
      ],
      "text/markdown": [
       "0"
      ],
      "text/plain": [
       "[1] 0"
      ]
     },
     "metadata": {},
     "output_type": "display_data"
    },
    {
     "data": {
      "text/html": [
       "<table>\n",
       "<thead><tr><th scope=col>Id</th><th scope=col>ActivityHour</th><th scope=col>Calories</th><th scope=col>TotalIntensity</th><th scope=col>AverageIntensity</th><th scope=col>StepTotal</th></tr></thead>\n",
       "<tbody>\n",
       "\t<tr><td>1503960366           </td><td>4/12/2016 1:00:00 AM </td><td>61                   </td><td> 8                   </td><td>0.133333             </td><td>160                  </td></tr>\n",
       "\t<tr><td>1503960366           </td><td>4/12/2016 1:00:00 PM </td><td>66                   </td><td> 6                   </td><td>0.100000             </td><td>221                  </td></tr>\n",
       "\t<tr><td>1503960366           </td><td>4/12/2016 10:00:00 AM</td><td>99                   </td><td>29                   </td><td>0.483333             </td><td>676                  </td></tr>\n",
       "\t<tr><td>1503960366           </td><td>4/12/2016 10:00:00 PM</td><td>65                   </td><td> 9                   </td><td>0.150000             </td><td> 89                  </td></tr>\n",
       "\t<tr><td>1503960366           </td><td>4/12/2016 11:00:00 AM</td><td>76                   </td><td>12                   </td><td>0.200000             </td><td>360                  </td></tr>\n",
       "\t<tr><td>1503960366           </td><td>4/12/2016 11:00:00 PM</td><td>81                   </td><td>21                   </td><td>0.350000             </td><td>338                  </td></tr>\n",
       "</tbody>\n",
       "</table>\n"
      ],
      "text/latex": [
       "\\begin{tabular}{r|llllll}\n",
       " Id & ActivityHour & Calories & TotalIntensity & AverageIntensity & StepTotal\\\\\n",
       "\\hline\n",
       "\t 1503960366            & 4/12/2016 1:00:00 AM  & 61                    &  8                    & 0.133333              & 160                  \\\\\n",
       "\t 1503960366            & 4/12/2016 1:00:00 PM  & 66                    &  6                    & 0.100000              & 221                  \\\\\n",
       "\t 1503960366            & 4/12/2016 10:00:00 AM & 99                    & 29                    & 0.483333              & 676                  \\\\\n",
       "\t 1503960366            & 4/12/2016 10:00:00 PM & 65                    &  9                    & 0.150000              &  89                  \\\\\n",
       "\t 1503960366            & 4/12/2016 11:00:00 AM & 76                    & 12                    & 0.200000              & 360                  \\\\\n",
       "\t 1503960366            & 4/12/2016 11:00:00 PM & 81                    & 21                    & 0.350000              & 338                  \\\\\n",
       "\\end{tabular}\n"
      ],
      "text/markdown": [
       "\n",
       "| Id | ActivityHour | Calories | TotalIntensity | AverageIntensity | StepTotal |\n",
       "|---|---|---|---|---|---|\n",
       "| 1503960366            | 4/12/2016 1:00:00 AM  | 61                    |  8                    | 0.133333              | 160                   |\n",
       "| 1503960366            | 4/12/2016 1:00:00 PM  | 66                    |  6                    | 0.100000              | 221                   |\n",
       "| 1503960366            | 4/12/2016 10:00:00 AM | 99                    | 29                    | 0.483333              | 676                   |\n",
       "| 1503960366            | 4/12/2016 10:00:00 PM | 65                    |  9                    | 0.150000              |  89                   |\n",
       "| 1503960366            | 4/12/2016 11:00:00 AM | 76                    | 12                    | 0.200000              | 360                   |\n",
       "| 1503960366            | 4/12/2016 11:00:00 PM | 81                    | 21                    | 0.350000              | 338                   |\n",
       "\n"
      ],
      "text/plain": [
       "  Id         ActivityHour          Calories TotalIntensity AverageIntensity\n",
       "1 1503960366 4/12/2016 1:00:00 AM  61        8             0.133333        \n",
       "2 1503960366 4/12/2016 1:00:00 PM  66        6             0.100000        \n",
       "3 1503960366 4/12/2016 10:00:00 AM 99       29             0.483333        \n",
       "4 1503960366 4/12/2016 10:00:00 PM 65        9             0.150000        \n",
       "5 1503960366 4/12/2016 11:00:00 AM 76       12             0.200000        \n",
       "6 1503960366 4/12/2016 11:00:00 PM 81       21             0.350000        \n",
       "  StepTotal\n",
       "1 160      \n",
       "2 221      \n",
       "3 676      \n",
       "4  89      \n",
       "5 360      \n",
       "6 338      "
      ]
     },
     "metadata": {},
     "output_type": "display_data"
    },
    {
     "name": "stdout",
     "output_type": "stream",
     "text": [
      "'data.frame':\t22099 obs. of  6 variables:\n",
      " $ Id              : num  1.5e+09 1.5e+09 1.5e+09 1.5e+09 1.5e+09 ...\n",
      " $ ActivityHour    : chr  \"4/12/2016 1:00:00 AM\" \"4/12/2016 1:00:00 PM\" \"4/12/2016 10:00:00 AM\" \"4/12/2016 10:00:00 PM\" ...\n",
      " $ Calories        : num  61 66 99 65 76 81 81 73 59 110 ...\n",
      " $ TotalIntensity  : num  8 6 29 9 12 21 20 11 7 36 ...\n",
      " $ AverageIntensity: num  0.133 0.1 0.483 0.15 0.2 ...\n",
      " $ StepTotal       : num  160 221 676 89 360 ...\n"
     ]
    }
   ],
   "source": [
    "hourly_Activity <- Reduce(merge,list(hourly_calories, hourly_intensity, hourly_steps))\n",
    "\n",
    "sum(is.na(hourly_Activity))\n",
    "head(hourly_Activity)\n",
    "str(hourly_Activity)"
   ]
  },
  {
   "cell_type": "markdown",
   "id": "1854f74e",
   "metadata": {},
   "source": [
    "### 3.Process\n",
    "\n",
    "In this phase, we check for errors in data, format data to use effectively. Cleaning and manipulation techniques will be performed to make data work for further analysis moe effectively.\n",
    "\n",
    "Here, **ActivityHour** timestamps are in character type, converting into date-time format helps find any discountinuity in recording data."
   ]
  },
  {
   "cell_type": "code",
   "execution_count": 35,
   "id": "6afa8957",
   "metadata": {},
   "outputs": [],
   "source": [
    "# for daily activity\n",
    "daily_Activity$ActivityDate <- as.POSIXct(daily_Activity$ActivityDate, format=\"%m/%d/%Y\", tz=Sys.timezone())\n",
    "daily_Activity$Date <- format(daily_Activity$ActivityDate,format = \"%m/%d/%y\")\n",
    "\n",
    "# Similarly  for hourly activity\n",
    "hourly_Activity$ActivityHour <- as.POSIXct(hourly_Activity$ActivityHour, format=\"%m/%d/%Y %I:%M:%S %p\", tz=Sys.timezone())\n",
    "hourly_Activity$Date <- format(hourly_Activity$ActivityHour,format = \"%m/%d/%y\")\n",
    "hourly_Activity$Time <- format(hourly_Activity$ActivityHour,format = \"%H\" )\n",
    "hourly_Activity$Day<-  weekdays(hourly_Activity$ActivityHour)\n",
    "\n",
    "# For sleep day\n",
    "sleep_day$SleepDay <- as.POSIXct(sleep_day$SleepDay, format=\"%m/%d/%Y %I:%M:%S %p\", tz=Sys.timezone())\n",
    "sleep_day$Date <- format(sleep_day$SleepDay,format = \"%m/%d/%y\")"
   ]
  },
  {
   "cell_type": "code",
   "execution_count": 36,
   "id": "f9a7dab3",
   "metadata": {},
   "outputs": [
    {
     "data": {
      "text/html": [
       "<table>\n",
       "<thead><tr><th scope=col>Id</th><th scope=col>ActivityDate</th><th scope=col>TotalSteps</th><th scope=col>TotalDistance</th><th scope=col>TrackerDistance</th><th scope=col>LoggedActivitiesDistance</th><th scope=col>VeryActiveDistance</th><th scope=col>ModeratelyActiveDistance</th><th scope=col>LightActiveDistance</th><th scope=col>SedentaryActiveDistance</th><th scope=col>VeryActiveMinutes</th><th scope=col>FairlyActiveMinutes</th><th scope=col>LightlyActiveMinutes</th><th scope=col>SedentaryMinutes</th><th scope=col>Calories</th><th scope=col>Date</th></tr></thead>\n",
       "<tbody>\n",
       "\t<tr><td>1503960366</td><td>2016-04-12</td><td>13162     </td><td>8.50      </td><td>8.50      </td><td>0         </td><td>1.88      </td><td>0.55      </td><td>6.06      </td><td>0         </td><td>25        </td><td>13        </td><td>328       </td><td> 728      </td><td>1985      </td><td>04/12/16  </td></tr>\n",
       "\t<tr><td>1503960366</td><td>2016-04-13</td><td>10735     </td><td>6.97      </td><td>6.97      </td><td>0         </td><td>1.57      </td><td>0.69      </td><td>4.71      </td><td>0         </td><td>21        </td><td>19        </td><td>217       </td><td> 776      </td><td>1797      </td><td>04/13/16  </td></tr>\n",
       "\t<tr><td>1503960366</td><td>2016-04-14</td><td>10460     </td><td>6.74      </td><td>6.74      </td><td>0         </td><td>2.44      </td><td>0.40      </td><td>3.91      </td><td>0         </td><td>30        </td><td>11        </td><td>181       </td><td>1218      </td><td>1776      </td><td>04/14/16  </td></tr>\n",
       "\t<tr><td>1503960366</td><td>2016-04-15</td><td> 9762     </td><td>6.28      </td><td>6.28      </td><td>0         </td><td>2.14      </td><td>1.26      </td><td>2.83      </td><td>0         </td><td>29        </td><td>34        </td><td>209       </td><td> 726      </td><td>1745      </td><td>04/15/16  </td></tr>\n",
       "\t<tr><td>1503960366</td><td>2016-04-16</td><td>12669     </td><td>8.16      </td><td>8.16      </td><td>0         </td><td>2.71      </td><td>0.41      </td><td>5.04      </td><td>0         </td><td>36        </td><td>10        </td><td>221       </td><td> 773      </td><td>1863      </td><td>04/16/16  </td></tr>\n",
       "\t<tr><td>1503960366</td><td>2016-04-17</td><td> 9705     </td><td>6.48      </td><td>6.48      </td><td>0         </td><td>3.19      </td><td>0.78      </td><td>2.51      </td><td>0         </td><td>38        </td><td>20        </td><td>164       </td><td> 539      </td><td>1728      </td><td>04/17/16  </td></tr>\n",
       "</tbody>\n",
       "</table>\n"
      ],
      "text/latex": [
       "\\begin{tabular}{r|llllllllllllllll}\n",
       " Id & ActivityDate & TotalSteps & TotalDistance & TrackerDistance & LoggedActivitiesDistance & VeryActiveDistance & ModeratelyActiveDistance & LightActiveDistance & SedentaryActiveDistance & VeryActiveMinutes & FairlyActiveMinutes & LightlyActiveMinutes & SedentaryMinutes & Calories & Date\\\\\n",
       "\\hline\n",
       "\t 1503960366 & 2016-04-12 & 13162      & 8.50       & 8.50       & 0          & 1.88       & 0.55       & 6.06       & 0          & 25         & 13         & 328        &  728       & 1985       & 04/12/16  \\\\\n",
       "\t 1503960366 & 2016-04-13 & 10735      & 6.97       & 6.97       & 0          & 1.57       & 0.69       & 4.71       & 0          & 21         & 19         & 217        &  776       & 1797       & 04/13/16  \\\\\n",
       "\t 1503960366 & 2016-04-14 & 10460      & 6.74       & 6.74       & 0          & 2.44       & 0.40       & 3.91       & 0          & 30         & 11         & 181        & 1218       & 1776       & 04/14/16  \\\\\n",
       "\t 1503960366 & 2016-04-15 &  9762      & 6.28       & 6.28       & 0          & 2.14       & 1.26       & 2.83       & 0          & 29         & 34         & 209        &  726       & 1745       & 04/15/16  \\\\\n",
       "\t 1503960366 & 2016-04-16 & 12669      & 8.16       & 8.16       & 0          & 2.71       & 0.41       & 5.04       & 0          & 36         & 10         & 221        &  773       & 1863       & 04/16/16  \\\\\n",
       "\t 1503960366 & 2016-04-17 &  9705      & 6.48       & 6.48       & 0          & 3.19       & 0.78       & 2.51       & 0          & 38         & 20         & 164        &  539       & 1728       & 04/17/16  \\\\\n",
       "\\end{tabular}\n"
      ],
      "text/markdown": [
       "\n",
       "| Id | ActivityDate | TotalSteps | TotalDistance | TrackerDistance | LoggedActivitiesDistance | VeryActiveDistance | ModeratelyActiveDistance | LightActiveDistance | SedentaryActiveDistance | VeryActiveMinutes | FairlyActiveMinutes | LightlyActiveMinutes | SedentaryMinutes | Calories | Date |\n",
       "|---|---|---|---|---|---|---|---|---|---|---|---|---|---|---|---|\n",
       "| 1503960366 | 2016-04-12 | 13162      | 8.50       | 8.50       | 0          | 1.88       | 0.55       | 6.06       | 0          | 25         | 13         | 328        |  728       | 1985       | 04/12/16   |\n",
       "| 1503960366 | 2016-04-13 | 10735      | 6.97       | 6.97       | 0          | 1.57       | 0.69       | 4.71       | 0          | 21         | 19         | 217        |  776       | 1797       | 04/13/16   |\n",
       "| 1503960366 | 2016-04-14 | 10460      | 6.74       | 6.74       | 0          | 2.44       | 0.40       | 3.91       | 0          | 30         | 11         | 181        | 1218       | 1776       | 04/14/16   |\n",
       "| 1503960366 | 2016-04-15 |  9762      | 6.28       | 6.28       | 0          | 2.14       | 1.26       | 2.83       | 0          | 29         | 34         | 209        |  726       | 1745       | 04/15/16   |\n",
       "| 1503960366 | 2016-04-16 | 12669      | 8.16       | 8.16       | 0          | 2.71       | 0.41       | 5.04       | 0          | 36         | 10         | 221        |  773       | 1863       | 04/16/16   |\n",
       "| 1503960366 | 2016-04-17 |  9705      | 6.48       | 6.48       | 0          | 3.19       | 0.78       | 2.51       | 0          | 38         | 20         | 164        |  539       | 1728       | 04/17/16   |\n",
       "\n"
      ],
      "text/plain": [
       "  Id         ActivityDate TotalSteps TotalDistance TrackerDistance\n",
       "1 1503960366 2016-04-12   13162      8.50          8.50           \n",
       "2 1503960366 2016-04-13   10735      6.97          6.97           \n",
       "3 1503960366 2016-04-14   10460      6.74          6.74           \n",
       "4 1503960366 2016-04-15    9762      6.28          6.28           \n",
       "5 1503960366 2016-04-16   12669      8.16          8.16           \n",
       "6 1503960366 2016-04-17    9705      6.48          6.48           \n",
       "  LoggedActivitiesDistance VeryActiveDistance ModeratelyActiveDistance\n",
       "1 0                        1.88               0.55                    \n",
       "2 0                        1.57               0.69                    \n",
       "3 0                        2.44               0.40                    \n",
       "4 0                        2.14               1.26                    \n",
       "5 0                        2.71               0.41                    \n",
       "6 0                        3.19               0.78                    \n",
       "  LightActiveDistance SedentaryActiveDistance VeryActiveMinutes\n",
       "1 6.06                0                       25               \n",
       "2 4.71                0                       21               \n",
       "3 3.91                0                       30               \n",
       "4 2.83                0                       29               \n",
       "5 5.04                0                       36               \n",
       "6 2.51                0                       38               \n",
       "  FairlyActiveMinutes LightlyActiveMinutes SedentaryMinutes Calories Date    \n",
       "1 13                  328                   728             1985     04/12/16\n",
       "2 19                  217                   776             1797     04/13/16\n",
       "3 11                  181                  1218             1776     04/14/16\n",
       "4 34                  209                   726             1745     04/15/16\n",
       "5 10                  221                   773             1863     04/16/16\n",
       "6 20                  164                   539             1728     04/17/16"
      ]
     },
     "metadata": {},
     "output_type": "display_data"
    },
    {
     "data": {
      "text/html": [
       "<table>\n",
       "<thead><tr><th scope=col>Id</th><th scope=col>SleepDay</th><th scope=col>TotalSleepRecords</th><th scope=col>TotalMinutesAsleep</th><th scope=col>TotalTimeInBed</th><th scope=col>Date</th></tr></thead>\n",
       "<tbody>\n",
       "\t<tr><td>1503960366</td><td>2016-04-12</td><td>1         </td><td>327       </td><td>346       </td><td>04/12/16  </td></tr>\n",
       "\t<tr><td>1503960366</td><td>2016-04-13</td><td>2         </td><td>384       </td><td>407       </td><td>04/13/16  </td></tr>\n",
       "\t<tr><td>1503960366</td><td>2016-04-15</td><td>1         </td><td>412       </td><td>442       </td><td>04/15/16  </td></tr>\n",
       "\t<tr><td>1503960366</td><td>2016-04-16</td><td>2         </td><td>340       </td><td>367       </td><td>04/16/16  </td></tr>\n",
       "\t<tr><td>1503960366</td><td>2016-04-17</td><td>1         </td><td>700       </td><td>712       </td><td>04/17/16  </td></tr>\n",
       "\t<tr><td>1503960366</td><td>2016-04-19</td><td>1         </td><td>304       </td><td>320       </td><td>04/19/16  </td></tr>\n",
       "</tbody>\n",
       "</table>\n"
      ],
      "text/latex": [
       "\\begin{tabular}{r|llllll}\n",
       " Id & SleepDay & TotalSleepRecords & TotalMinutesAsleep & TotalTimeInBed & Date\\\\\n",
       "\\hline\n",
       "\t 1503960366 & 2016-04-12 & 1          & 327        & 346        & 04/12/16  \\\\\n",
       "\t 1503960366 & 2016-04-13 & 2          & 384        & 407        & 04/13/16  \\\\\n",
       "\t 1503960366 & 2016-04-15 & 1          & 412        & 442        & 04/15/16  \\\\\n",
       "\t 1503960366 & 2016-04-16 & 2          & 340        & 367        & 04/16/16  \\\\\n",
       "\t 1503960366 & 2016-04-17 & 1          & 700        & 712        & 04/17/16  \\\\\n",
       "\t 1503960366 & 2016-04-19 & 1          & 304        & 320        & 04/19/16  \\\\\n",
       "\\end{tabular}\n"
      ],
      "text/markdown": [
       "\n",
       "| Id | SleepDay | TotalSleepRecords | TotalMinutesAsleep | TotalTimeInBed | Date |\n",
       "|---|---|---|---|---|---|\n",
       "| 1503960366 | 2016-04-12 | 1          | 327        | 346        | 04/12/16   |\n",
       "| 1503960366 | 2016-04-13 | 2          | 384        | 407        | 04/13/16   |\n",
       "| 1503960366 | 2016-04-15 | 1          | 412        | 442        | 04/15/16   |\n",
       "| 1503960366 | 2016-04-16 | 2          | 340        | 367        | 04/16/16   |\n",
       "| 1503960366 | 2016-04-17 | 1          | 700        | 712        | 04/17/16   |\n",
       "| 1503960366 | 2016-04-19 | 1          | 304        | 320        | 04/19/16   |\n",
       "\n"
      ],
      "text/plain": [
       "  Id         SleepDay   TotalSleepRecords TotalMinutesAsleep TotalTimeInBed\n",
       "1 1503960366 2016-04-12 1                 327                346           \n",
       "2 1503960366 2016-04-13 2                 384                407           \n",
       "3 1503960366 2016-04-15 1                 412                442           \n",
       "4 1503960366 2016-04-16 2                 340                367           \n",
       "5 1503960366 2016-04-17 1                 700                712           \n",
       "6 1503960366 2016-04-19 1                 304                320           \n",
       "  Date    \n",
       "1 04/12/16\n",
       "2 04/13/16\n",
       "3 04/15/16\n",
       "4 04/16/16\n",
       "5 04/17/16\n",
       "6 04/19/16"
      ]
     },
     "metadata": {},
     "output_type": "display_data"
    },
    {
     "data": {
      "text/html": [
       "<table>\n",
       "<thead><tr><th scope=col>Id</th><th scope=col>ActivityHour</th><th scope=col>Calories</th><th scope=col>TotalIntensity</th><th scope=col>AverageIntensity</th><th scope=col>StepTotal</th><th scope=col>Date</th><th scope=col>Time</th><th scope=col>Day</th></tr></thead>\n",
       "<tbody>\n",
       "\t<tr><td>1503960366         </td><td>2016-04-12 01:00:00</td><td>61                 </td><td> 8                 </td><td>0.133333           </td><td>160                </td><td>04/12/16           </td><td>01                 </td><td>Tuesday            </td></tr>\n",
       "\t<tr><td>1503960366         </td><td>2016-04-12 13:00:00</td><td>66                 </td><td> 6                 </td><td>0.100000           </td><td>221                </td><td>04/12/16           </td><td>13                 </td><td>Tuesday            </td></tr>\n",
       "\t<tr><td>1503960366         </td><td>2016-04-12 10:00:00</td><td>99                 </td><td>29                 </td><td>0.483333           </td><td>676                </td><td>04/12/16           </td><td>10                 </td><td>Tuesday            </td></tr>\n",
       "\t<tr><td>1503960366         </td><td>2016-04-12 22:00:00</td><td>65                 </td><td> 9                 </td><td>0.150000           </td><td> 89                </td><td>04/12/16           </td><td>22                 </td><td>Tuesday            </td></tr>\n",
       "\t<tr><td>1503960366         </td><td>2016-04-12 11:00:00</td><td>76                 </td><td>12                 </td><td>0.200000           </td><td>360                </td><td>04/12/16           </td><td>11                 </td><td>Tuesday            </td></tr>\n",
       "\t<tr><td>1503960366         </td><td>2016-04-12 23:00:00</td><td>81                 </td><td>21                 </td><td>0.350000           </td><td>338                </td><td>04/12/16           </td><td>23                 </td><td>Tuesday            </td></tr>\n",
       "</tbody>\n",
       "</table>\n"
      ],
      "text/latex": [
       "\\begin{tabular}{r|lllllllll}\n",
       " Id & ActivityHour & Calories & TotalIntensity & AverageIntensity & StepTotal & Date & Time & Day\\\\\n",
       "\\hline\n",
       "\t 1503960366          & 2016-04-12 01:00:00 & 61                  &  8                  & 0.133333            & 160                 & 04/12/16            & 01                  & Tuesday            \\\\\n",
       "\t 1503960366          & 2016-04-12 13:00:00 & 66                  &  6                  & 0.100000            & 221                 & 04/12/16            & 13                  & Tuesday            \\\\\n",
       "\t 1503960366          & 2016-04-12 10:00:00 & 99                  & 29                  & 0.483333            & 676                 & 04/12/16            & 10                  & Tuesday            \\\\\n",
       "\t 1503960366          & 2016-04-12 22:00:00 & 65                  &  9                  & 0.150000            &  89                 & 04/12/16            & 22                  & Tuesday            \\\\\n",
       "\t 1503960366          & 2016-04-12 11:00:00 & 76                  & 12                  & 0.200000            & 360                 & 04/12/16            & 11                  & Tuesday            \\\\\n",
       "\t 1503960366          & 2016-04-12 23:00:00 & 81                  & 21                  & 0.350000            & 338                 & 04/12/16            & 23                  & Tuesday            \\\\\n",
       "\\end{tabular}\n"
      ],
      "text/markdown": [
       "\n",
       "| Id | ActivityHour | Calories | TotalIntensity | AverageIntensity | StepTotal | Date | Time | Day |\n",
       "|---|---|---|---|---|---|---|---|---|\n",
       "| 1503960366          | 2016-04-12 01:00:00 | 61                  |  8                  | 0.133333            | 160                 | 04/12/16            | 01                  | Tuesday             |\n",
       "| 1503960366          | 2016-04-12 13:00:00 | 66                  |  6                  | 0.100000            | 221                 | 04/12/16            | 13                  | Tuesday             |\n",
       "| 1503960366          | 2016-04-12 10:00:00 | 99                  | 29                  | 0.483333            | 676                 | 04/12/16            | 10                  | Tuesday             |\n",
       "| 1503960366          | 2016-04-12 22:00:00 | 65                  |  9                  | 0.150000            |  89                 | 04/12/16            | 22                  | Tuesday             |\n",
       "| 1503960366          | 2016-04-12 11:00:00 | 76                  | 12                  | 0.200000            | 360                 | 04/12/16            | 11                  | Tuesday             |\n",
       "| 1503960366          | 2016-04-12 23:00:00 | 81                  | 21                  | 0.350000            | 338                 | 04/12/16            | 23                  | Tuesday             |\n",
       "\n"
      ],
      "text/plain": [
       "  Id         ActivityHour        Calories TotalIntensity AverageIntensity\n",
       "1 1503960366 2016-04-12 01:00:00 61        8             0.133333        \n",
       "2 1503960366 2016-04-12 13:00:00 66        6             0.100000        \n",
       "3 1503960366 2016-04-12 10:00:00 99       29             0.483333        \n",
       "4 1503960366 2016-04-12 22:00:00 65        9             0.150000        \n",
       "5 1503960366 2016-04-12 11:00:00 76       12             0.200000        \n",
       "6 1503960366 2016-04-12 23:00:00 81       21             0.350000        \n",
       "  StepTotal Date     Time Day    \n",
       "1 160       04/12/16 01   Tuesday\n",
       "2 221       04/12/16 13   Tuesday\n",
       "3 676       04/12/16 10   Tuesday\n",
       "4  89       04/12/16 22   Tuesday\n",
       "5 360       04/12/16 11   Tuesday\n",
       "6 338       04/12/16 23   Tuesday"
      ]
     },
     "metadata": {},
     "output_type": "display_data"
    }
   ],
   "source": [
    "# a quick check on changes on dates and time\n",
    "head(daily_Activity)\n",
    "head(sleep_day)\n",
    "head(hourly_Activity)"
   ]
  },
  {
   "cell_type": "markdown",
   "id": "3f6c6084",
   "metadata": {},
   "source": [
    "Now, we have daily, hourly activities of 33 users and sleep records of 24 users. We can start exploring the cleaned and organized data to find patterns through some great visualizations."
   ]
  },
  {
   "cell_type": "markdown",
   "id": "1c5d3864",
   "metadata": {},
   "source": [
    "### 4.Analyze\n",
    "In this phase, we analyze data through aggregating useful features to draw some insights by plotting self-explanatory visualizations. \n",
    "Some tasks which include:\n",
    "* Aggregating data.\n",
    "* Formatting and creating useful data.\n",
    "* Peforming calculations.\n",
    "* Identifying trends and relationships."
   ]
  },
  {
   "cell_type": "code",
   "execution_count": 37,
   "id": "b046e6c9",
   "metadata": {},
   "outputs": [
    {
     "name": "stdout",
     "output_type": "stream",
     "text": [
      "[1] \"Daily activity\"\n"
     ]
    },
    {
     "data": {
      "text/plain": [
       " VeryActiveDistance ModeratelyActiveDistance LightActiveDistance\n",
       " Min.   : 0.000     Min.   :0.0000           Min.   : 0.000     \n",
       " 1st Qu.: 0.000     1st Qu.:0.0000           1st Qu.: 1.945     \n",
       " Median : 0.210     Median :0.2400           Median : 3.365     \n",
       " Mean   : 1.503     Mean   :0.5675           Mean   : 3.341     \n",
       " 3rd Qu.: 2.053     3rd Qu.:0.8000           3rd Qu.: 4.782     \n",
       " Max.   :21.920     Max.   :6.4800           Max.   :10.710     \n",
       " SedentaryActiveDistance\n",
       " Min.   :0.000000       \n",
       " 1st Qu.:0.000000       \n",
       " Median :0.000000       \n",
       " Mean   :0.001606       \n",
       " 3rd Qu.:0.000000       \n",
       " Max.   :0.110000       "
      ]
     },
     "metadata": {},
     "output_type": "display_data"
    },
    {
     "data": {
      "text/plain": [
       "   TotalSteps    TotalDistance    TrackerDistance \n",
       " Min.   :    0   Min.   : 0.000   Min.   : 0.000  \n",
       " 1st Qu.: 3790   1st Qu.: 2.620   1st Qu.: 2.620  \n",
       " Median : 7406   Median : 5.245   Median : 5.245  \n",
       " Mean   : 7638   Mean   : 5.490   Mean   : 5.475  \n",
       " 3rd Qu.:10727   3rd Qu.: 7.713   3rd Qu.: 7.710  \n",
       " Max.   :36019   Max.   :28.030   Max.   :28.030  "
      ]
     },
     "metadata": {},
     "output_type": "display_data"
    },
    {
     "data": {
      "text/plain": [
       " VeryActiveMinutes FairlyActiveMinutes LightlyActiveMinutes SedentaryMinutes\n",
       " Min.   :  0.00    Min.   :  0.00      Min.   :  0.0        Min.   :   0.0  \n",
       " 1st Qu.:  0.00    1st Qu.:  0.00      1st Qu.:127.0        1st Qu.: 729.8  \n",
       " Median :  4.00    Median :  6.00      Median :199.0        Median :1057.5  \n",
       " Mean   : 21.16    Mean   : 13.56      Mean   :192.8        Mean   : 991.2  \n",
       " 3rd Qu.: 32.00    3rd Qu.: 19.00      3rd Qu.:264.0        3rd Qu.:1229.5  \n",
       " Max.   :210.00    Max.   :143.00      Max.   :518.0        Max.   :1440.0  "
      ]
     },
     "metadata": {},
     "output_type": "display_data"
    },
    {
     "name": "stdout",
     "output_type": "stream",
     "text": [
      "[1] \"sleep day\"\n"
     ]
    },
    {
     "data": {
      "text/plain": [
       " TotalSleepRecords TotalMinutesAsleep TotalTimeInBed \n",
       " Min.   :1.000     Min.   : 58.0      Min.   : 61.0  \n",
       " 1st Qu.:1.000     1st Qu.:361.0      1st Qu.:403.0  \n",
       " Median :1.000     Median :433.0      Median :463.0  \n",
       " Mean   :1.119     Mean   :419.5      Mean   :458.6  \n",
       " 3rd Qu.:1.000     3rd Qu.:490.0      3rd Qu.:526.0  \n",
       " Max.   :3.000     Max.   :796.0      Max.   :961.0  "
      ]
     },
     "metadata": {},
     "output_type": "display_data"
    },
    {
     "name": "stdout",
     "output_type": "stream",
     "text": [
      "[1] \"Hourly activity\"\n"
     ]
    },
    {
     "data": {
      "text/plain": [
       "    Calories      TotalIntensity     StepTotal      \n",
       " Min.   : 42.00   Min.   :  0.00   Min.   :    0.0  \n",
       " 1st Qu.: 63.00   1st Qu.:  0.00   1st Qu.:    0.0  \n",
       " Median : 83.00   Median :  3.00   Median :   40.0  \n",
       " Mean   : 97.39   Mean   : 12.04   Mean   :  320.2  \n",
       " 3rd Qu.:108.00   3rd Qu.: 16.00   3rd Qu.:  357.0  \n",
       " Max.   :948.00   Max.   :180.00   Max.   :10554.0  "
      ]
     },
     "metadata": {},
     "output_type": "display_data"
    }
   ],
   "source": [
    "# Daily activity summary on distance covered based on levels, steps and active minutes\n",
    "print(\"Daily activity\")\n",
    "daily_Activity %>%\n",
    "    select(VeryActiveDistance, ModeratelyActiveDistance, LightActiveDistance, SedentaryActiveDistance)%>%\n",
    "    summary()\n",
    "daily_Activity %>%\n",
    "    select(TotalSteps, TotalDistance, TrackerDistance)%>%\n",
    "    summary()\n",
    "daily_Activity  %>%\n",
    "    select(VeryActiveMinutes,FairlyActiveMinutes, LightlyActiveMinutes, SedentaryMinutes)%>%\n",
    "    summary()\n",
    "\n",
    "# Sleep records summary\n",
    "print(\"sleep day\")\n",
    "sleep_day %>%\n",
    "    select(TotalSleepRecords, TotalMinutesAsleep, TotalTimeInBed)%>%\n",
    "    summary()\n",
    "\n",
    "# Hourly activity summary on total steps \n",
    "print(\"Hourly activity\")\n",
    "hourly_Activity %>%\n",
    "    select(Calories, TotalIntensity, StepTotal)%>%\n",
    "    summary()\n"
   ]
  },
  {
   "cell_type": "markdown",
   "id": "a4ab0b74",
   "metadata": {},
   "source": [
    "#### Findings from summaries:\n",
    "* Average steps in day is found to be 7638. However, average of 10,000 steps is commonly recommended to stay fit. So, steps per day need to be maintained.\n",
    "* 75% users are maintaining 10,000 steps per day according 3rd quartile stat of TotalSteps.\n",
    "* Average Sedentary/Inactive Minutes per day is 991 minutes i.e., 16.5 hours which is 2/3rd of day. This needs to be reduced.(assuming sleep time may or maynot recorded)\n",
    "* Total Time in bed is recorded average of 458.6 minutes i.e., 7.6 hours after sleep is quite too long if assumed user is not working on bed.\n",
    "\n",
    "\n",
    "Before we start the analysis, we’ll set up a common theme for our plots."
   ]
  },
  {
   "cell_type": "code",
   "execution_count": 38,
   "id": "32b339f2",
   "metadata": {},
   "outputs": [],
   "source": [
    "custom_theme <- function() {\n",
    "  theme(\n",
    "    panel.border = element_rect(colour = \"black\", \n",
    "                                fill = NA, \n",
    "                                linetype = 1),\n",
    "    panel.background = element_rect(fill = \"white\", \n",
    "                                    color = 'grey50'),\n",
    "#     panel.grid.minor.y = element_blank(),\n",
    "    axis.text = element_text(size=14,colour = \"black\", \n",
    "                             face = \"italic\", \n",
    "                             family = \"Helvetica\"),\n",
    "    axis.title = element_text(size=16,colour = \"black\", \n",
    "                              family = \"Helvetica\"),\n",
    "    axis.ticks = element_line(colour = \"black\"),\n",
    "    plot.title = element_text(size=23, \n",
    "                              hjust = 0.5, \n",
    "                              family = \"Helvetica\"),\n",
    "    plot.subtitle=element_text(size=18, \n",
    "                               hjust = 0.5),\n",
    "    plot.caption = element_text(size=16,colour = \"black\", \n",
    "                             face = \"italic\", \n",
    "                             family = \"Helvetica\"),\n",
    "    legend.text = element_text(size=14,colour = \"black\"),\n",
    "    legend.title = element_text(size= 18,colour = \"black\")\n",
    "  )\n",
    "}"
   ]
  },
  {
   "cell_type": "code",
   "execution_count": 39,
   "id": "8c86da83",
   "metadata": {},
   "outputs": [
    {
     "data": {
      "text/html": [
       "<table>\n",
       "<thead><tr><th scope=col>Id</th><th scope=col>ActivityDate</th><th scope=col>TotalSteps</th><th scope=col>TotalDistance</th><th scope=col>TrackerDistance</th><th scope=col>LoggedActivitiesDistance</th><th scope=col>VeryActiveDistance</th><th scope=col>ModeratelyActiveDistance</th><th scope=col>LightActiveDistance</th><th scope=col>SedentaryActiveDistance</th><th scope=col>VeryActiveMinutes</th><th scope=col>FairlyActiveMinutes</th><th scope=col>LightlyActiveMinutes</th><th scope=col>SedentaryMinutes</th><th scope=col>Calories</th><th scope=col>Date</th></tr></thead>\n",
       "<tbody>\n",
       "\t<tr><td>1503960366</td><td>2016-04-12</td><td>13162     </td><td>8.50      </td><td>8.50      </td><td>0         </td><td>1.88      </td><td>0.55      </td><td>6.06      </td><td>0         </td><td>25        </td><td>13        </td><td>328       </td><td> 728      </td><td>1985      </td><td>04/12/16  </td></tr>\n",
       "\t<tr><td>1503960366</td><td>2016-04-13</td><td>10735     </td><td>6.97      </td><td>6.97      </td><td>0         </td><td>1.57      </td><td>0.69      </td><td>4.71      </td><td>0         </td><td>21        </td><td>19        </td><td>217       </td><td> 776      </td><td>1797      </td><td>04/13/16  </td></tr>\n",
       "\t<tr><td>1503960366</td><td>2016-04-14</td><td>10460     </td><td>6.74      </td><td>6.74      </td><td>0         </td><td>2.44      </td><td>0.40      </td><td>3.91      </td><td>0         </td><td>30        </td><td>11        </td><td>181       </td><td>1218      </td><td>1776      </td><td>04/14/16  </td></tr>\n",
       "\t<tr><td>1503960366</td><td>2016-04-15</td><td> 9762     </td><td>6.28      </td><td>6.28      </td><td>0         </td><td>2.14      </td><td>1.26      </td><td>2.83      </td><td>0         </td><td>29        </td><td>34        </td><td>209       </td><td> 726      </td><td>1745      </td><td>04/15/16  </td></tr>\n",
       "\t<tr><td>1503960366</td><td>2016-04-16</td><td>12669     </td><td>8.16      </td><td>8.16      </td><td>0         </td><td>2.71      </td><td>0.41      </td><td>5.04      </td><td>0         </td><td>36        </td><td>10        </td><td>221       </td><td> 773      </td><td>1863      </td><td>04/16/16  </td></tr>\n",
       "\t<tr><td>1503960366</td><td>2016-04-17</td><td> 9705     </td><td>6.48      </td><td>6.48      </td><td>0         </td><td>3.19      </td><td>0.78      </td><td>2.51      </td><td>0         </td><td>38        </td><td>20        </td><td>164       </td><td> 539      </td><td>1728      </td><td>04/17/16  </td></tr>\n",
       "</tbody>\n",
       "</table>\n"
      ],
      "text/latex": [
       "\\begin{tabular}{r|llllllllllllllll}\n",
       " Id & ActivityDate & TotalSteps & TotalDistance & TrackerDistance & LoggedActivitiesDistance & VeryActiveDistance & ModeratelyActiveDistance & LightActiveDistance & SedentaryActiveDistance & VeryActiveMinutes & FairlyActiveMinutes & LightlyActiveMinutes & SedentaryMinutes & Calories & Date\\\\\n",
       "\\hline\n",
       "\t 1503960366 & 2016-04-12 & 13162      & 8.50       & 8.50       & 0          & 1.88       & 0.55       & 6.06       & 0          & 25         & 13         & 328        &  728       & 1985       & 04/12/16  \\\\\n",
       "\t 1503960366 & 2016-04-13 & 10735      & 6.97       & 6.97       & 0          & 1.57       & 0.69       & 4.71       & 0          & 21         & 19         & 217        &  776       & 1797       & 04/13/16  \\\\\n",
       "\t 1503960366 & 2016-04-14 & 10460      & 6.74       & 6.74       & 0          & 2.44       & 0.40       & 3.91       & 0          & 30         & 11         & 181        & 1218       & 1776       & 04/14/16  \\\\\n",
       "\t 1503960366 & 2016-04-15 &  9762      & 6.28       & 6.28       & 0          & 2.14       & 1.26       & 2.83       & 0          & 29         & 34         & 209        &  726       & 1745       & 04/15/16  \\\\\n",
       "\t 1503960366 & 2016-04-16 & 12669      & 8.16       & 8.16       & 0          & 2.71       & 0.41       & 5.04       & 0          & 36         & 10         & 221        &  773       & 1863       & 04/16/16  \\\\\n",
       "\t 1503960366 & 2016-04-17 &  9705      & 6.48       & 6.48       & 0          & 3.19       & 0.78       & 2.51       & 0          & 38         & 20         & 164        &  539       & 1728       & 04/17/16  \\\\\n",
       "\\end{tabular}\n"
      ],
      "text/markdown": [
       "\n",
       "| Id | ActivityDate | TotalSteps | TotalDistance | TrackerDistance | LoggedActivitiesDistance | VeryActiveDistance | ModeratelyActiveDistance | LightActiveDistance | SedentaryActiveDistance | VeryActiveMinutes | FairlyActiveMinutes | LightlyActiveMinutes | SedentaryMinutes | Calories | Date |\n",
       "|---|---|---|---|---|---|---|---|---|---|---|---|---|---|---|---|\n",
       "| 1503960366 | 2016-04-12 | 13162      | 8.50       | 8.50       | 0          | 1.88       | 0.55       | 6.06       | 0          | 25         | 13         | 328        |  728       | 1985       | 04/12/16   |\n",
       "| 1503960366 | 2016-04-13 | 10735      | 6.97       | 6.97       | 0          | 1.57       | 0.69       | 4.71       | 0          | 21         | 19         | 217        |  776       | 1797       | 04/13/16   |\n",
       "| 1503960366 | 2016-04-14 | 10460      | 6.74       | 6.74       | 0          | 2.44       | 0.40       | 3.91       | 0          | 30         | 11         | 181        | 1218       | 1776       | 04/14/16   |\n",
       "| 1503960366 | 2016-04-15 |  9762      | 6.28       | 6.28       | 0          | 2.14       | 1.26       | 2.83       | 0          | 29         | 34         | 209        |  726       | 1745       | 04/15/16   |\n",
       "| 1503960366 | 2016-04-16 | 12669      | 8.16       | 8.16       | 0          | 2.71       | 0.41       | 5.04       | 0          | 36         | 10         | 221        |  773       | 1863       | 04/16/16   |\n",
       "| 1503960366 | 2016-04-17 |  9705      | 6.48       | 6.48       | 0          | 3.19       | 0.78       | 2.51       | 0          | 38         | 20         | 164        |  539       | 1728       | 04/17/16   |\n",
       "\n"
      ],
      "text/plain": [
       "  Id         ActivityDate TotalSteps TotalDistance TrackerDistance\n",
       "1 1503960366 2016-04-12   13162      8.50          8.50           \n",
       "2 1503960366 2016-04-13   10735      6.97          6.97           \n",
       "3 1503960366 2016-04-14   10460      6.74          6.74           \n",
       "4 1503960366 2016-04-15    9762      6.28          6.28           \n",
       "5 1503960366 2016-04-16   12669      8.16          8.16           \n",
       "6 1503960366 2016-04-17    9705      6.48          6.48           \n",
       "  LoggedActivitiesDistance VeryActiveDistance ModeratelyActiveDistance\n",
       "1 0                        1.88               0.55                    \n",
       "2 0                        1.57               0.69                    \n",
       "3 0                        2.44               0.40                    \n",
       "4 0                        2.14               1.26                    \n",
       "5 0                        2.71               0.41                    \n",
       "6 0                        3.19               0.78                    \n",
       "  LightActiveDistance SedentaryActiveDistance VeryActiveMinutes\n",
       "1 6.06                0                       25               \n",
       "2 4.71                0                       21               \n",
       "3 3.91                0                       30               \n",
       "4 2.83                0                       29               \n",
       "5 5.04                0                       36               \n",
       "6 2.51                0                       38               \n",
       "  FairlyActiveMinutes LightlyActiveMinutes SedentaryMinutes Calories Date    \n",
       "1 13                  328                   728             1985     04/12/16\n",
       "2 19                  217                   776             1797     04/13/16\n",
       "3 11                  181                  1218             1776     04/14/16\n",
       "4 34                  209                   726             1745     04/15/16\n",
       "5 10                  221                   773             1863     04/16/16\n",
       "6 20                  164                   539             1728     04/17/16"
      ]
     },
     "metadata": {},
     "output_type": "display_data"
    }
   ],
   "source": [
    "head(daily_Activity)"
   ]
  },
  {
   "cell_type": "code",
   "execution_count": 40,
   "id": "980ff799",
   "metadata": {},
   "outputs": [
    {
     "data": {
      "image/png": "[encoded data removed]",
      "text/plain": [
       "plot without title"
      ]
     },
     "metadata": {},
     "output_type": "display_data"
    }
   ],
   "source": [
    "# visualizing no. of steps in a day \n",
    "options(repr.plot.width = 12, repr.plot.height = 8)\n",
    "daily_Activity$weekday <- weekdays(as.Date(daily_Activity$Date,format=\"%m/%d/%Y\"))\n",
    "daily_Activity$weekday <- factor(daily_Activity$weekday, levels = c(\"Monday\", \"Tuesday\", \"Wednesday\", \"Thursday\", \"Friday\", \"Saturday\",\"Sunday\"))\n",
    "daily_Activity_group_steps <- daily_Activity %>%\n",
    "  group_by(weekday) %>%\n",
    "  drop_na() %>%\n",
    "  summarise(mean_TotalSteps = mean(TotalSteps))\n",
    "\n",
    "ggplot(data = daily_Activity_group_steps)+ geom_col(mapping = aes( x = weekday, y = mean_TotalSteps, fill = mean_TotalSteps))+\n",
    "            labs(title = \"Average Steps each day of the week \", \n",
    "                 caption = paste0(\"Data of 33 users from date 4/12/2016 to 5/12/2016\"), \n",
    "                 x=\"Week day\", y = \"Average Steps\", \n",
    "                 fill = \"TotalSteps\")+custom_theme()\n"
   ]
  },
  {
   "cell_type": "markdown",
   "id": "8ecea6eb",
   "metadata": {},
   "source": [
    "Users tends to be excersing at medium pace on working days and significantly higher than usual on Saturdays. On Sundays, users excersing less and relaxing more. "
   ]
  },
  {
   "cell_type": "code",
   "execution_count": 41,
   "id": "36b86d32",
   "metadata": {},
   "outputs": [
    {
     "name": "stderr",
     "output_type": "stream",
     "text": [
      "Adding missing grouping variables: `weekday`\n"
     ]
    },
    {
     "data": {
      "text/html": [
       "<table>\n",
       "<thead><tr><th scope=col>weekday</th><th scope=col>mean_veryactive</th><th scope=col>mean_fairlyactive</th><th scope=col>mean_lightlyactive</th><th scope=col>mean_sedentaryactive</th></tr></thead>\n",
       "<tbody>\n",
       "\t<tr><td>Monday   </td><td>23.10833 </td><td>14.00000 </td><td>192.0583 </td><td>1027.9417</td></tr>\n",
       "\t<tr><td>Tuesday  </td><td>22.95395 </td><td>14.33553 </td><td>197.3421 </td><td>1007.3618</td></tr>\n",
       "\t<tr><td>Wednesday</td><td>20.78000 </td><td>13.10000 </td><td>189.8533 </td><td> 989.4800</td></tr>\n",
       "\t<tr><td>Thursday </td><td>19.40816 </td><td>11.95918 </td><td>185.4218 </td><td> 961.9932</td></tr>\n",
       "\t<tr><td>Friday   </td><td>20.05556 </td><td>12.11111 </td><td>204.1984 </td><td>1000.3095</td></tr>\n",
       "\t<tr><td>Saturday </td><td>21.91935 </td><td>15.20161 </td><td>207.1452 </td><td> 964.2823</td></tr>\n",
       "\t<tr><td>Sunday   </td><td>19.98347 </td><td>14.52893 </td><td>173.9752 </td><td> 990.2562</td></tr>\n",
       "</tbody>\n",
       "</table>\n"
      ],
      "text/latex": [
       "\\begin{tabular}{r|lllll}\n",
       " weekday & mean\\_veryactive & mean\\_fairlyactive & mean\\_lightlyactive & mean\\_sedentaryactive\\\\\n",
       "\\hline\n",
       "\t Monday    & 23.10833  & 14.00000  & 192.0583  & 1027.9417\\\\\n",
       "\t Tuesday   & 22.95395  & 14.33553  & 197.3421  & 1007.3618\\\\\n",
       "\t Wednesday & 20.78000  & 13.10000  & 189.8533  &  989.4800\\\\\n",
       "\t Thursday  & 19.40816  & 11.95918  & 185.4218  &  961.9932\\\\\n",
       "\t Friday    & 20.05556  & 12.11111  & 204.1984  & 1000.3095\\\\\n",
       "\t Saturday  & 21.91935  & 15.20161  & 207.1452  &  964.2823\\\\\n",
       "\t Sunday    & 19.98347  & 14.52893  & 173.9752  &  990.2562\\\\\n",
       "\\end{tabular}\n"
      ],
      "text/markdown": [
       "\n",
       "| weekday | mean_veryactive | mean_fairlyactive | mean_lightlyactive | mean_sedentaryactive |\n",
       "|---|---|---|---|---|\n",
       "| Monday    | 23.10833  | 14.00000  | 192.0583  | 1027.9417 |\n",
       "| Tuesday   | 22.95395  | 14.33553  | 197.3421  | 1007.3618 |\n",
       "| Wednesday | 20.78000  | 13.10000  | 189.8533  |  989.4800 |\n",
       "| Thursday  | 19.40816  | 11.95918  | 185.4218  |  961.9932 |\n",
       "| Friday    | 20.05556  | 12.11111  | 204.1984  | 1000.3095 |\n",
       "| Saturday  | 21.91935  | 15.20161  | 207.1452  |  964.2823 |\n",
       "| Sunday    | 19.98347  | 14.52893  | 173.9752  |  990.2562 |\n",
       "\n"
      ],
      "text/plain": [
       "  weekday   mean_veryactive mean_fairlyactive mean_lightlyactive\n",
       "1 Monday    23.10833        14.00000          192.0583          \n",
       "2 Tuesday   22.95395        14.33553          197.3421          \n",
       "3 Wednesday 20.78000        13.10000          189.8533          \n",
       "4 Thursday  19.40816        11.95918          185.4218          \n",
       "5 Friday    20.05556        12.11111          204.1984          \n",
       "6 Saturday  21.91935        15.20161          207.1452          \n",
       "7 Sunday    19.98347        14.52893          173.9752          \n",
       "  mean_sedentaryactive\n",
       "1 1027.9417           \n",
       "2 1007.3618           \n",
       "3  989.4800           \n",
       "4  961.9932           \n",
       "5 1000.3095           \n",
       "6  964.2823           \n",
       "7  990.2562           "
      ]
     },
     "metadata": {},
     "output_type": "display_data"
    }
   ],
   "source": [
    "daily_Activity_minutes_active <- daily_Activity %>%\n",
    "  group_by(weekday) %>%\n",
    "  select(VeryActiveMinutes,FairlyActiveMinutes,LightlyActiveMinutes, SedentaryMinutes)%>%\n",
    "  summarise(mean_veryactive = mean(VeryActiveMinutes),\n",
    "           mean_fairlyactive = mean(FairlyActiveMinutes),\n",
    "           mean_lightlyactive = mean(LightlyActiveMinutes),\n",
    "           mean_sedentaryactive = mean(SedentaryMinutes)) \n",
    "daily_Activity_minutes_active"
   ]
  },
  {
   "cell_type": "markdown",
   "id": "dc144868",
   "metadata": {},
   "source": [
    "From above table, we can say that users are lightly active for atleast 3 hrs in a day through out the week. Due to office work or any other activity in a day, sedentary minutes are relatively higher in a day. Bellabeat can remind the users to talk a walk for 5-10 mins for every 2-3 hrs from avoiding continuous sitting risks and increase their productivity. "
   ]
  },
  {
   "cell_type": "code",
   "execution_count": 42,
   "id": "488a7746",
   "metadata": {},
   "outputs": [
    {
     "data": {
      "image/png": "[encoded data removed]",
      "text/plain": [
       "plot without title"
      ]
     },
     "metadata": {},
     "output_type": "display_data"
    }
   ],
   "source": [
    "options(repr.plot.width=8, repr.plot.height=8)\n",
    "ggplot(daily_Activity_minutes_active, aes(x=weekday,y=mean_veryactive, group=1))+\n",
    "  geom_line(color = \"blue\")+ geom_point()+\n",
    "  labs(title=\"Average Very Active Minutes by Weekdays\", x= \"Weekdays\", y=\"Daily Very Active Minutes\")+ custom_theme()\n",
    "\n"
   ]
  },
  {
   "cell_type": "markdown",
   "id": "05e7ec24",
   "metadata": {},
   "source": [
    "Reviewing activity levels, we can see the overall trend in user's activity:\n",
    "* Activity level are high on Monday and Tuesday\n",
    "* Activity level are high on Thursday and Sunday\n",
    "\n",
    "Users starts off the week active and slow down in the mid. This might be due to the busy schedule, they feel tired. While on saturday, high activity level is observed, which could due to the weekend and users spending time outdoors.\n",
    "Let's now analyse further about daily activity time."
   ]
  },
  {
   "cell_type": "code",
   "execution_count": 43,
   "id": "4888bb42",
   "metadata": {},
   "outputs": [
    {
     "data": {
      "image/png": "[encoded data removed]",
      "text/plain": [
       "plot without title"
      ]
     },
     "metadata": {},
     "output_type": "display_data"
    }
   ],
   "source": [
    "require(gridExtra)\n",
    "\n",
    "options(repr.plot.width=15, repr.plot.height=6)\n",
    "p2<-ggplot(daily_Activity_minutes_active, aes(x=weekday,y=mean_fairlyactive, group=1))+\n",
    "  geom_line(color = \"blue\")+ geom_point()+\n",
    "  labs(title=\"Average Fairly Active Minutes by Weekdays\", x= \"Weekdays\", y=\"Daily Fairly Active Minutes\")\n",
    "\n",
    "p3<-ggplot(daily_Activity_minutes_active, aes(x=weekday,y=mean_lightlyactive, group=1))+\n",
    "  geom_line(color = \"blue\")+ geom_point()+\n",
    "  labs(title=\"Average Lightly Active Minutes by Weekdays\", x= \"Weekdays\", y=\"Daily Lightly Active Minutes\")\n",
    "\n",
    "p4<-ggplot(daily_Activity_minutes_active, aes(x=weekday,y=mean_sedentaryactive, group=1))+\n",
    "  geom_line(color = \"blue\")+ geom_point()+\n",
    "  labs(title=\"Average Sedentary Active Minutes by Weekdays\", x= \"Weekdays\", y=\"Daily Sedentary Active Minutes\")\n",
    "\n",
    "grid.arrange(p2,p3,p4, ncol=3)\n",
    "\n",
    "options(repr.plot.width=15, repr.plot.height=6)"
   ]
  },
  {
   "cell_type": "code",
   "execution_count": 44,
   "id": "a274a62e",
   "metadata": {},
   "outputs": [
    {
     "name": "stderr",
     "output_type": "stream",
     "text": [
      "`geom_smooth()` using method = 'loess' and formula 'y ~ x'\n",
      "`geom_smooth()` using method = 'loess' and formula 'y ~ x'\n"
     ]
    },
    {
     "data": {
      "image/png": "[encoded data removed]",
      "text/plain": [
       "plot without title"
      ]
     },
     "metadata": {},
     "output_type": "display_data"
    },
    {
     "data": {
      "image/png": "[encoded data removed]",
      "text/plain": [
       "plot without title"
      ]
     },
     "metadata": {},
     "output_type": "display_data"
    }
   ],
   "source": [
    "options(repr.plot.width = 6, repr.plot.height = 6)\n",
    "ggplot(data = daily_Activity,aes(x = TotalSteps, y = Calories))+geom_point()+geom_smooth()+ labs(title=\"Calories vs Total Steps\")+custom_theme()\n",
    "\n",
    "ggplot(data = daily_Activity, aes(x = TotalSteps, y = TotalDistance))+geom_point()+geom_smooth()+ labs(title=\"Total Distance vs Total Steps\")+custom_theme()"
   ]
  },
  {
   "cell_type": "code",
   "execution_count": 45,
   "id": "dae9b18b",
   "metadata": {},
   "outputs": [
    {
     "name": "stdout",
     "output_type": "stream",
     "text": [
      "'data.frame':\t22099 obs. of  9 variables:\n",
      " $ Id              : num  1.5e+09 1.5e+09 1.5e+09 1.5e+09 1.5e+09 ...\n",
      " $ ActivityHour    : POSIXct, format: \"2016-04-12 01:00:00\" \"2016-04-12 13:00:00\" ...\n",
      " $ Calories        : num  61 66 99 65 76 81 81 73 59 110 ...\n",
      " $ TotalIntensity  : num  8 6 29 9 12 21 20 11 7 36 ...\n",
      " $ AverageIntensity: num  0.133 0.1 0.483 0.15 0.2 ...\n",
      " $ StepTotal       : num  160 221 676 89 360 ...\n",
      " $ Date            : chr  \"04/12/16\" \"04/12/16\" \"04/12/16\" \"04/12/16\" ...\n",
      " $ Time            : chr  \"01\" \"13\" \"10\" \"22\" ...\n",
      " $ Day             : chr  \"Tuesday\" \"Tuesday\" \"Tuesday\" \"Tuesday\" ...\n"
     ]
    }
   ],
   "source": [
    "str(hourly_Activity)"
   ]
  },
  {
   "cell_type": "markdown",
   "id": "d9a3fb46",
   "metadata": {},
   "source": [
    "Now, let's analyse at what time any user is most active in a day"
   ]
  },
  {
   "cell_type": "code",
   "execution_count": 46,
   "id": "0e777898",
   "metadata": {},
   "outputs": [
    {
     "data": {
      "image/png": "[encoded data removed]",
      "text/plain": [
       "plot without title"
      ]
     },
     "metadata": {},
     "output_type": "display_data"
    }
   ],
   "source": [
    "hourly_Activity_s <- hourly_Activity %>%\n",
    "  group_by(Day,Time) %>%\n",
    "  drop_na() %>%\n",
    "  summarise(mean_TotalIntensity = mean(TotalIntensity))\n",
    "\n",
    "ggplot(data=hourly_Activity_s) +\n",
    "  geom_col(mapping = aes(x = Time, y=mean_TotalIntensity)) +\n",
    "  labs(title=\"Hourly Intensity of a Day\",\n",
    "        caption = paste0(\"Data of 33 users from date 4/12/2016 to 5/12/2016\"), \n",
    "       x=\"Time(hour)\",\n",
    "       y=\"Average intensity\") +custom_theme()\n",
    "    \n",
    "options(repr.plot.width = 12, repr.plot.height = 6)"
   ]
  },
  {
   "cell_type": "markdown",
   "id": "b60d3c33",
   "metadata": {},
   "source": [
    "We can observe most of the people are active at the evening(around 5-7pm). People might be doing exercise at that time.\n",
    "Let's now analyse how this trend varies through the week."
   ]
  },
  {
   "cell_type": "code",
   "execution_count": 47,
   "id": "2b0e1f52",
   "metadata": {},
   "outputs": [
    {
     "data": {
      "image/png": "[encoded data removed]",
      "text/plain": [
       "plot without title"
      ]
     },
     "metadata": {},
     "output_type": "display_data"
    }
   ],
   "source": [
    "ggplot(data=hourly_Activity_s) +\n",
    "  geom_col(mapping = aes(x = Time, y=mean_TotalIntensity, fill=mean_TotalIntensity)) +   facet_wrap(~Day) +\n",
    "  labs(title=\"Hourly Intensity of a Day\",\n",
    "        caption = paste0(\"Data of 33 users from date 4/12/2016 to 5/12/2016\"), \n",
    "       x=\"Time(hour)\",\n",
    "       y=\"Average intensity\",fill=\"Intensity\") +custom_theme()+\n",
    "  theme(axis.text.x = element_text(size = 9))\n",
    "    \n",
    "options(repr.plot.width = 10, repr.plot.height = 10)"
   ]
  },
  {
   "cell_type": "markdown",
   "id": "165a0100",
   "metadata": {},
   "source": [
    "We can see that users usually exercise between 6pm and 7pm on weekdays. On Saturdays, they are very active around 1pm and are pretty active until 7pm. On Sunday, the activity level dropped significantly.\n",
    "Let's now analyse, On which week day how active the users are.\n"
   ]
  },
  {
   "cell_type": "code",
   "execution_count": 48,
   "id": "2753b337",
   "metadata": {},
   "outputs": [
    {
     "data": {
      "text/html": [
       "<table>\n",
       "<thead><tr><th></th><th scope=col>Id</th><th scope=col>Date</th><th scope=col>ActivityDate</th><th scope=col>TotalSteps</th><th scope=col>TotalDistance</th><th scope=col>TrackerDistance</th><th scope=col>LoggedActivitiesDistance</th><th scope=col>VeryActiveDistance</th><th scope=col>ModeratelyActiveDistance</th><th scope=col>LightActiveDistance</th><th scope=col>...</th><th scope=col>VeryActiveMinutes</th><th scope=col>FairlyActiveMinutes</th><th scope=col>LightlyActiveMinutes</th><th scope=col>SedentaryMinutes</th><th scope=col>Calories</th><th scope=col>weekday</th><th scope=col>SleepDay</th><th scope=col>TotalSleepRecords</th><th scope=col>TotalMinutesAsleep</th><th scope=col>TotalTimeInBed</th></tr></thead>\n",
       "<tbody>\n",
       "\t<tr><th scope=row>1</th><td>1503960366</td><td>04/12/16  </td><td>2016-04-12</td><td>13162     </td><td>8.50      </td><td>8.50      </td><td>0         </td><td>1.88      </td><td>0.55      </td><td>6.06      </td><td>...       </td><td>25        </td><td>13        </td><td>328       </td><td>728       </td><td>1985      </td><td>Tuesday   </td><td>2016-04-12</td><td>1         </td><td>327       </td><td>346       </td></tr>\n",
       "\t<tr><th scope=row>2</th><td>1503960366</td><td>04/13/16  </td><td>2016-04-13</td><td>10735     </td><td>6.97      </td><td>6.97      </td><td>0         </td><td>1.57      </td><td>0.69      </td><td>4.71      </td><td>...       </td><td>21        </td><td>19        </td><td>217       </td><td>776       </td><td>1797      </td><td>Wednesday </td><td>2016-04-13</td><td>2         </td><td>384       </td><td>407       </td></tr>\n",
       "\t<tr><th scope=row>4</th><td>1503960366</td><td>04/15/16  </td><td>2016-04-15</td><td> 9762     </td><td>6.28      </td><td>6.28      </td><td>0         </td><td>2.14      </td><td>1.26      </td><td>2.83      </td><td>...       </td><td>29        </td><td>34        </td><td>209       </td><td>726       </td><td>1745      </td><td>Friday    </td><td>2016-04-15</td><td>1         </td><td>412       </td><td>442       </td></tr>\n",
       "\t<tr><th scope=row>5</th><td>1503960366</td><td>04/16/16  </td><td>2016-04-16</td><td>12669     </td><td>8.16      </td><td>8.16      </td><td>0         </td><td>2.71      </td><td>0.41      </td><td>5.04      </td><td>...       </td><td>36        </td><td>10        </td><td>221       </td><td>773       </td><td>1863      </td><td>Saturday  </td><td>2016-04-16</td><td>2         </td><td>340       </td><td>367       </td></tr>\n",
       "\t<tr><th scope=row>6</th><td>1503960366</td><td>04/17/16  </td><td>2016-04-17</td><td> 9705     </td><td>6.48      </td><td>6.48      </td><td>0         </td><td>3.19      </td><td>0.78      </td><td>2.51      </td><td>...       </td><td>38        </td><td>20        </td><td>164       </td><td>539       </td><td>1728      </td><td>Sunday    </td><td>2016-04-17</td><td>1         </td><td>700       </td><td>712       </td></tr>\n",
       "\t<tr><th scope=row>8</th><td>1503960366</td><td>04/19/16  </td><td>2016-04-19</td><td>15506     </td><td>9.88      </td><td>9.88      </td><td>0         </td><td>3.53      </td><td>1.32      </td><td>5.03      </td><td>...       </td><td>50        </td><td>31        </td><td>264       </td><td>775       </td><td>2035      </td><td>Tuesday   </td><td>2016-04-19</td><td>1         </td><td>304       </td><td>320       </td></tr>\n",
       "</tbody>\n",
       "</table>\n"
      ],
      "text/latex": [
       "\\begin{tabular}{r|lllllllllllllllllllll}\n",
       "  & Id & Date & ActivityDate & TotalSteps & TotalDistance & TrackerDistance & LoggedActivitiesDistance & VeryActiveDistance & ModeratelyActiveDistance & LightActiveDistance & ... & VeryActiveMinutes & FairlyActiveMinutes & LightlyActiveMinutes & SedentaryMinutes & Calories & weekday & SleepDay & TotalSleepRecords & TotalMinutesAsleep & TotalTimeInBed\\\\\n",
       "\\hline\n",
       "\t1 & 1503960366 & 04/12/16   & 2016-04-12 & 13162      & 8.50       & 8.50       & 0          & 1.88       & 0.55       & 6.06       & ...        & 25         & 13         & 328        & 728        & 1985       & Tuesday    & 2016-04-12 & 1          & 327        & 346       \\\\\n",
       "\t2 & 1503960366 & 04/13/16   & 2016-04-13 & 10735      & 6.97       & 6.97       & 0          & 1.57       & 0.69       & 4.71       & ...        & 21         & 19         & 217        & 776        & 1797       & Wednesday  & 2016-04-13 & 2          & 384        & 407       \\\\\n",
       "\t4 & 1503960366 & 04/15/16   & 2016-04-15 &  9762      & 6.28       & 6.28       & 0          & 2.14       & 1.26       & 2.83       & ...        & 29         & 34         & 209        & 726        & 1745       & Friday     & 2016-04-15 & 1          & 412        & 442       \\\\\n",
       "\t5 & 1503960366 & 04/16/16   & 2016-04-16 & 12669      & 8.16       & 8.16       & 0          & 2.71       & 0.41       & 5.04       & ...        & 36         & 10         & 221        & 773        & 1863       & Saturday   & 2016-04-16 & 2          & 340        & 367       \\\\\n",
       "\t6 & 1503960366 & 04/17/16   & 2016-04-17 &  9705      & 6.48       & 6.48       & 0          & 3.19       & 0.78       & 2.51       & ...        & 38         & 20         & 164        & 539        & 1728       & Sunday     & 2016-04-17 & 1          & 700        & 712       \\\\\n",
       "\t8 & 1503960366 & 04/19/16   & 2016-04-19 & 15506      & 9.88       & 9.88       & 0          & 3.53       & 1.32       & 5.03       & ...        & 50         & 31         & 264        & 775        & 2035       & Tuesday    & 2016-04-19 & 1          & 304        & 320       \\\\\n",
       "\\end{tabular}\n"
      ],
      "text/markdown": [
       "\n",
       "| <!--/--> | Id | Date | ActivityDate | TotalSteps | TotalDistance | TrackerDistance | LoggedActivitiesDistance | VeryActiveDistance | ModeratelyActiveDistance | LightActiveDistance | ... | VeryActiveMinutes | FairlyActiveMinutes | LightlyActiveMinutes | SedentaryMinutes | Calories | weekday | SleepDay | TotalSleepRecords | TotalMinutesAsleep | TotalTimeInBed |\n",
       "|---|---|---|---|---|---|---|---|---|---|---|---|---|---|---|---|---|---|---|---|---|---|\n",
       "| 1 | 1503960366 | 04/12/16   | 2016-04-12 | 13162      | 8.50       | 8.50       | 0          | 1.88       | 0.55       | 6.06       | ...        | 25         | 13         | 328        | 728        | 1985       | Tuesday    | 2016-04-12 | 1          | 327        | 346        |\n",
       "| 2 | 1503960366 | 04/13/16   | 2016-04-13 | 10735      | 6.97       | 6.97       | 0          | 1.57       | 0.69       | 4.71       | ...        | 21         | 19         | 217        | 776        | 1797       | Wednesday  | 2016-04-13 | 2          | 384        | 407        |\n",
       "| 4 | 1503960366 | 04/15/16   | 2016-04-15 |  9762      | 6.28       | 6.28       | 0          | 2.14       | 1.26       | 2.83       | ...        | 29         | 34         | 209        | 726        | 1745       | Friday     | 2016-04-15 | 1          | 412        | 442        |\n",
       "| 5 | 1503960366 | 04/16/16   | 2016-04-16 | 12669      | 8.16       | 8.16       | 0          | 2.71       | 0.41       | 5.04       | ...        | 36         | 10         | 221        | 773        | 1863       | Saturday   | 2016-04-16 | 2          | 340        | 367        |\n",
       "| 6 | 1503960366 | 04/17/16   | 2016-04-17 |  9705      | 6.48       | 6.48       | 0          | 3.19       | 0.78       | 2.51       | ...        | 38         | 20         | 164        | 539        | 1728       | Sunday     | 2016-04-17 | 1          | 700        | 712        |\n",
       "| 8 | 1503960366 | 04/19/16   | 2016-04-19 | 15506      | 9.88       | 9.88       | 0          | 3.53       | 1.32       | 5.03       | ...        | 50         | 31         | 264        | 775        | 2035       | Tuesday    | 2016-04-19 | 1          | 304        | 320        |\n",
       "\n"
      ],
      "text/plain": [
       "  Id         Date     ActivityDate TotalSteps TotalDistance TrackerDistance\n",
       "1 1503960366 04/12/16 2016-04-12   13162      8.50          8.50           \n",
       "2 1503960366 04/13/16 2016-04-13   10735      6.97          6.97           \n",
       "4 1503960366 04/15/16 2016-04-15    9762      6.28          6.28           \n",
       "5 1503960366 04/16/16 2016-04-16   12669      8.16          8.16           \n",
       "6 1503960366 04/17/16 2016-04-17    9705      6.48          6.48           \n",
       "8 1503960366 04/19/16 2016-04-19   15506      9.88          9.88           \n",
       "  LoggedActivitiesDistance VeryActiveDistance ModeratelyActiveDistance\n",
       "1 0                        1.88               0.55                    \n",
       "2 0                        1.57               0.69                    \n",
       "4 0                        2.14               1.26                    \n",
       "5 0                        2.71               0.41                    \n",
       "6 0                        3.19               0.78                    \n",
       "8 0                        3.53               1.32                    \n",
       "  LightActiveDistance ... VeryActiveMinutes FairlyActiveMinutes\n",
       "1 6.06                ... 25                13                 \n",
       "2 4.71                ... 21                19                 \n",
       "4 2.83                ... 29                34                 \n",
       "5 5.04                ... 36                10                 \n",
       "6 2.51                ... 38                20                 \n",
       "8 5.03                ... 50                31                 \n",
       "  LightlyActiveMinutes SedentaryMinutes Calories weekday   SleepDay  \n",
       "1 328                  728              1985     Tuesday   2016-04-12\n",
       "2 217                  776              1797     Wednesday 2016-04-13\n",
       "4 209                  726              1745     Friday    2016-04-15\n",
       "5 221                  773              1863     Saturday  2016-04-16\n",
       "6 164                  539              1728     Sunday    2016-04-17\n",
       "8 264                  775              2035     Tuesday   2016-04-19\n",
       "  TotalSleepRecords TotalMinutesAsleep TotalTimeInBed\n",
       "1 1                 327                346           \n",
       "2 2                 384                407           \n",
       "4 1                 412                442           \n",
       "5 2                 340                367           \n",
       "6 1                 700                712           \n",
       "8 1                 304                320           "
      ]
     },
     "metadata": {},
     "output_type": "display_data"
    },
    {
     "data": {
      "text/html": [
       "24"
      ],
      "text/latex": [
       "24"
      ],
      "text/markdown": [
       "24"
      ],
      "text/plain": [
       "[1] 24"
      ]
     },
     "metadata": {},
     "output_type": "display_data"
    }
   ],
   "source": [
    "daily_df <- merge(daily_Activity, sleep_day, by = c('Id', 'Date'), all.x = TRUE)\n",
    "daily_df <- daily_df %>% drop_na()\n",
    "\n",
    "head(daily_df)\n",
    "n_distinct(daily_df$Id)"
   ]
  },
  {
   "cell_type": "code",
   "execution_count": 49,
   "id": "283af1a8",
   "metadata": {},
   "outputs": [
    {
     "data": {
      "image/png": "[encoded data removed]",
      "text/plain": [
       "plot without title"
      ]
     },
     "metadata": {},
     "output_type": "display_data"
    }
   ],
   "source": [
    "#Sleep minutes vs Week day\n",
    "daily_df$weekday <- weekdays(daily_df$ActivityDate)\n",
    "daily_df$weekday <- factor(daily_df$weekday, levels = c(\"Monday\", \"Tuesday\", \"Wednesday\", \"Thursday\", \"Friday\", \"Saturday\",\"Sunday\"))\n",
    "options(repr.plot.width = 8, repr.plot.height = 8)\n",
    "daily_df_group_sleep <- daily_df %>%\n",
    "  group_by(weekday) %>%\n",
    "  drop_na() %>%\n",
    "  summarise(mean_TotalMinutesAsleep = mean(TotalMinutesAsleep))\n",
    "\n",
    "# daily_Activity_group_steps <- daily_Activity_group_steps[order(daily_Activity_group_steps)]\n",
    "# daily_Activity_group_steps\n",
    "ggplot(data = daily_df_group_sleep)+ geom_col(mapping = aes( x = weekday, y = mean_TotalMinutesAsleep, fill = mean_TotalMinutesAsleep))+\n",
    "            labs(title = \"Average Sleep each day of the week \", \n",
    "                 caption = paste0(\"Data of 24 users from date 4/12/2016 to 5/12/2016\"), \n",
    "                 x=\"Week day\", y = \"Average Sleep Minutes\", \n",
    "                 fill = \"Total Sleep Minutes\")+custom_theme()"
   ]
  },
  {
   "cell_type": "markdown",
   "id": "f1448231",
   "metadata": {},
   "source": [
    "We can observe that, people sleep more on weekends. Average of 400 mins i.e 6-7 hrs is maintained in working days. As per common recommendations, between 7-9 hrs of sleep is must. \n"
   ]
  },
  {
   "cell_type": "code",
   "execution_count": 50,
   "id": "97aa61cc",
   "metadata": {},
   "outputs": [
    {
     "name": "stderr",
     "output_type": "stream",
     "text": [
      "`geom_smooth()` using method = 'loess' and formula 'y ~ x'\n"
     ]
    },
    {
     "data": {
      "image/png": "[encoded data removed]",
      "text/plain": [
       "plot without title"
      ]
     },
     "metadata": {},
     "output_type": "display_data"
    }
   ],
   "source": [
    "options(repr.plot.width = 8, repr.plot.height = 8)\n",
    "#Total Time in bed & Sleep time correlation\n",
    "ggplot(data=daily_df, aes(x=TotalMinutesAsleep, y=TotalTimeInBed)) + \n",
    "  geom_point()+geom_smooth()+ labs(title=\"Total Time in Bed Vs Total Minutes Asleep \")+custom_theme()\n",
    "    "
   ]
  },
  {
   "cell_type": "markdown",
   "id": "ae8aaffb",
   "metadata": {},
   "source": [
    "The relationship between Total Minutes Asleep and Total Time in Bed seems to be linear. **So, if the Bellabeat app users want to improve their sleep hour, we should consider giving a notification via app to sleep at a specific time, set by the user.**\n",
    "\n",
    "Based on this visual we can infer that there is some correlation between time asleep and time spent in bed. \n",
    "Based on this correlation, Bellabeat should set a reminder to encourage people to spend less time on bed. Though, there are some ouliers,showing that some of the people face struggle to sleep, even after spending long duration on bed. \n",
    "\n",
    "Here, **TotalTimeInBed** includes sleep time. Let's analyse extra time in bed and sleep time to know how correlated they are."
   ]
  },
  {
   "cell_type": "code",
   "execution_count": 51,
   "id": "f3125c72",
   "metadata": {},
   "outputs": [
    {
     "name": "stderr",
     "output_type": "stream",
     "text": [
      "`geom_smooth()` using method = 'loess' and formula 'y ~ x'\n"
     ]
    },
    {
     "data": {
      "image/png": "[encoded data removed]",
      "text/plain": [
       "plot without title"
      ]
     },
     "metadata": {},
     "output_type": "display_data"
    }
   ],
   "source": [
    "daily_df$ExtraTimeInbed <- daily_df$TotalTimeInBed- daily_df$TotalMinutesAsleep\n",
    "\n",
    "ggplot(data=daily_df, aes(x=TotalMinutesAsleep, y=ExtraTimeInbed)) + \n",
    "  geom_point(color='darkblue')+geom_smooth()+ labs(title=\"Extra Time in Bed Vs Total Minutes Asleep\")+custom_theme()"
   ]
  },
  {
   "cell_type": "markdown",
   "id": "85fdfecf",
   "metadata": {},
   "source": [
    "The above plot shows that majority of users spend atleast 30-60 mins in bed after or before sleep time. However, we can observe that some users spending time in bed more than half of sleep time, the reasons could be users might be working on bed, just scrolling phone, or having insomnia. Bellabeat should put up active reminders to ensure the user to stay productive and healthy.\n",
    "\n",
    "Let's look at the relationship between Total Minutes Asleep and Sedentary Minutes."
   ]
  },
  {
   "cell_type": "code",
   "execution_count": 52,
   "id": "c88b9b6d",
   "metadata": {},
   "outputs": [
    {
     "name": "stderr",
     "output_type": "stream",
     "text": [
      "`geom_smooth()` using method = 'loess' and formula 'y ~ x'\n"
     ]
    },
    {
     "data": {
      "image/png": "[encoded data removed]",
      "text/plain": [
       "plot without title"
      ]
     },
     "metadata": {},
     "output_type": "display_data"
    }
   ],
   "source": [
    "ggplot(data=daily_df, aes(x=TotalMinutesAsleep, y=SedentaryMinutes)) + \n",
    "geom_point(color='darkblue') + geom_smooth() +\n",
    "  labs(title=\"Minutes Asleep vs. Sedentary Minutes\")+custom_theme()"
   ]
  },
  {
   "cell_type": "markdown",
   "id": "65a44085",
   "metadata": {},
   "source": [
    "We can see the negative correlation between Sedentary Minutes and Sleep time. \n",
    " So,**If the Bellabeat user want to improve their sleep, the app can recommend reducing the sedentary time**. \n",
    "Though, correlation doesn't always implies causation, we need to support this insight with more data."
   ]
  },
  {
   "cell_type": "markdown",
   "id": "7bb8d34c",
   "metadata": {},
   "source": [
    "### 5.Share\n",
    "#### Recommendations\n",
    "\n",
    "\n",
    "* Based on daily data plots, Bellabeat should implement a rewards system to incentivize users to achieve their daily step goals. Aiming for at least 5,000 steps per day, Bellabeat should send timely notifications to users, such as in the morning and evening, to encourage them to stay active.\n",
    "\n",
    "* Considering the observed tendency of users to be more sedentary during work hours (9-5), Bellabeat should introduce proactive reminders to encourage users to take breaks from sitting every 2-4 hours. These reminders could include prompts to walk, perform warm-up exercises, or stretch.\n",
    "\n",
    "* In addition to tracking steps, sleep time, weight, and heart rate, Bellabeat should expand its offerings to include regular sessions on healthy eating habits, yoga, and other wellness practices.\n",
    "\n",
    "* Based on sleep time analysis, Bellabeat should provide personalized sleep hygiene recommendations to help users establish healthy sleep routines and reduce the amount of time spent tossing and turning in bed. Bellabeat should also monitor users for both oversleeping and insufficient sleep, as both can have a significant impact on daytime energy levels and overall health.\n",
    "\n",
    "* Bellabeat's Spring and Leaf products are well-suited for individuals who work remotely or from home. To cater to this audience, Bellabeat should consider developing unique products that can seamlessly track user activity without requiring constant attention or disrupting sleep.\n",
    "\n",
    "* A clear correlation exists between higher intensity activity and increased calorie burn. By integrating activity tracking with an interactive app or device, Bellabeat can effectively motivate users to increase their physical activity, especially those seeking weight loss.\n"
   ]
  },
  {
   "cell_type": "code",
   "execution_count": null,
   "id": "4d5d1d02",
   "metadata": {},
   "outputs": [],
   "source": []
  }
 ],
 "metadata": {
  "kernelspec": {
   "display_name": "Python 3 (ipykernel)",
   "language": "python",
   "name": "python3"
  },
  "language_info": {
   "codemirror_mode": {
    "name": "ipython",
    "version": 3
   },
   "file_extension": ".py",
   "mimetype": "text/x-python",
   "name": "python",
   "nbconvert_exporter": "python",
   "pygments_lexer": "ipython3",
   "version": "3.11.4"
  }
 },
 "nbformat": 4,
 "nbformat_minor": 5
}
